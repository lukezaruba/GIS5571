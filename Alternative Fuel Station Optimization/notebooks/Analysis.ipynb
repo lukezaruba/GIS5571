{
 "cells": [
  {
   "cell_type": "markdown",
   "metadata": {},
   "source": [
    "# Alternative Fuel Station Location Optimization in the Twin Cities Metropolitan Area\n",
    "\n",
    "### Luke Zaruba<br>GIS 5571: ArcGIS I (Spatial Data Science I)<br>December 14, 2022\n",
    "\n",
    "**Abstract**\n",
    "<br>\n",
    "*With renewable energy and sustainable transportation becoming key focuses for urban planning and development in the coming decades, infrastructure for supplying sustainable alternative fuels for transportation will become a key issue, especially given the United States’ reliance upon gas and oil, along with the country’s aging energy system. In order to efficiently and effectively provide adequate alternative fueling infrastructure to the nation, GIS and spatial data science techniques can be used to optimize coverage and minimize costs. This project aims to use two prominent methods developed in the field of operations research, for optimizing the rollout of alternative fueling stations in the Twin Cities Metropolitan Area (TCMA) by maximizing coverage and minimizing resources. The project will show how the techniques can be used at a local or regional level, but the analysis is scalable, and can be used at much smaller scales (larger extents), like across the U.S. Interstate System.*"
   ]
  },
  {
   "cell_type": "code",
   "execution_count": 1,
   "metadata": {},
   "outputs": [],
   "source": [
    "# Import Packages\n",
    "import numpy as np\n",
    "import pandas as pd\n",
    "import arcpy\n",
    "import arcgis\n",
    "import os"
   ]
  },
  {
   "cell_type": "markdown",
   "metadata": {},
   "source": [
    "## Preparation"
   ]
  },
  {
   "cell_type": "code",
   "execution_count": 6,
   "metadata": {},
   "outputs": [],
   "source": [
    "# Dissolve Counties to Study Area\n",
    "study_area_name = r\"C:\\gitFiles\\GIS5571\\Alternative Fuel Station Optimization\\data\\Project_FGDB.gdb\\study_area\"\n",
    "study_area = arcpy.management.Dissolve(\"Counties\", study_area_name, None, None, \"SINGLE_PART\", \"DISSOLVE_LINES\", '')"
   ]
  },
  {
   "cell_type": "code",
   "execution_count": 7,
   "metadata": {},
   "outputs": [],
   "source": [
    "# Clip Candidate Locations to 7 County Metro Area\n",
    "candidate_clip = r\"C:\\gitFiles\\GIS5571\\Alternative Fuel Station Optimization\\data\\Project_FGDB.gdb\\candidate_locations_Clip\"\n",
    "\n",
    "candidates = arcpy.analysis.Clip(\"candidate_locations\", study_area, candidate_clip)"
   ]
  },
  {
   "cell_type": "code",
   "execution_count": 8,
   "metadata": {},
   "outputs": [],
   "source": [
    "# Create Random Points to Simulate Demand\n",
    "gdb = r\"C:\\gitFiles\\GIS5571\\Alternative Fuel Station Optimization\\data\\Project_FGDB.gdb\"\n",
    "\n",
    "for i in range(3):\n",
    "    arcpy.management.CreateRandomPoints(gdb, f\"demand_{i}\", study_area, \"0 0 250 250\", 1000)"
   ]
  },
  {
   "cell_type": "code",
   "execution_count": 3,
   "metadata": {},
   "outputs": [
    {
     "data": {
      "text/html": [
       "<div class='gpresult'><h2>Messages</h2><div id='messages' data-messages='[\"Start Time: Tuesday, December 6, 2022 9:54:38 PM\",\"WARNING 030116: The network was built, but with some errors.  Error details are at \\\"C:\\\\Users\\\\lukea\\\\AppData\\\\Local\\\\Temp\\\\ArcGISProTemp25636\\\\BuildErrors.txt\\\".\",\"Succeeded at Tuesday, December 6, 2022 9:54:47 PM (Elapsed Time: 8.87 seconds)\"]' data-show='true'><div id = 'default' /></div></div>"
      ],
      "text/plain": [
       "<Result 'NetworkFCR2021'>"
      ]
     },
     "execution_count": 3,
     "metadata": {},
     "output_type": "execute_result"
    }
   ],
   "source": [
    "# Create Network\n",
    "arcpy.na.CreateNetworkDataset(r\"C:\\gitFiles\\GIS5571\\Alternative Fuel Station Optimization\\data\\Project_FGDB.gdb\\Network\", \"NetworkFCR2021\", \"FunctionalClassRoads\", \"NO_ELEVATION\")\n",
    "arcpy.na.BuildNetwork(\"NetworkFCR2021\")"
   ]
  },
  {
   "cell_type": "markdown",
   "metadata": {},
   "source": [
    "## Location Set Coverage Problem (LSCP)"
   ]
  },
  {
   "cell_type": "code",
   "execution_count": 9,
   "metadata": {},
   "outputs": [],
   "source": [
    "# Model LSCP for a range of weights, on the three sample inputs\n",
    "for i in np.arange(0.5, 2.01, 0.5):\n",
    "    for d in range(3):\n",
    "        # Make Model\n",
    "        model = arcpy.na.MakeLocationAllocationAnalysisLayer(\"NetworkFCR2021\", f\"LSCP_{i}_{d}\", \"Driving\", \"TO_FACILITIES\", \"MINIMIZE_FACILITIES\", 15000, 1, \"POWER\", i, 10, 1, None, \"LOCAL_TIME_AT_LOCATIONS\", \"STRAIGHT_LINES\", None, \"SKIP\")\n",
    "        arcpy.na.AddLocations(model, \"Facilities\", candidates, \"Name Name #;FacilityType # 0;Weight # 1;Capacity # #;CurbApproach # 0\", \"20000 Meters\", None, \"FunctionalClassRoads SHAPE;NetworkFCR2021_Junctions NONE\", \"MATCH_TO_CLOSEST\", \"APPEND\", \"NO_SNAP\", \"5 Meters\", \"EXCLUDE\", None, \"ALLOW\")\n",
    "        arcpy.na.AddLocations(model, \"Demand Points\", f\"demand_{d}\", \"Name # #;Weight # 1;GroupName # #;ImpedanceTransformation # #;ImpedanceParameter # #;CurbApproach # 0;Cutoff_Minutes # #;Cutoff_TravelTime # #;Cutoff_Miles # #;Cutoff_Kilometers # #;Cutoff_TimeAt1KPH # #;Cutoff_WalkTime # #;Cutoff_TruckMinutes # #;Cutoff_TruckTravelTime # #\", \"20000 Meters\", None, \"FunctionalClassRoads SHAPE;NetworkFCR2021_Junctions NONE\", \"MATCH_TO_CLOSEST\", \"APPEND\", \"NO_SNAP\", \"5 Meters\", \"EXCLUDE\", None, \"ALLOW\")\n",
    "        arcpy.na.Solve(model, \"SKIP\", \"TERMINATE\", None, '')"
   ]
  },
  {
   "cell_type": "code",
   "execution_count": 17,
   "metadata": {},
   "outputs": [
    {
     "name": "stdout",
     "output_type": "stream",
     "text": [
      "Weight 0.5 & Demand Dataset 0:   35 facilities chosen\n",
      "Weight 0.5 & Demand Dataset 1:   33 facilities chosen\n",
      "Weight 0.5 & Demand Dataset 2:   33 facilities chosen\n",
      "Weight 1.0 & Demand Dataset 0:   34 facilities chosen\n",
      "Weight 1.0 & Demand Dataset 1:   34 facilities chosen\n",
      "Weight 1.0 & Demand Dataset 2:   33 facilities chosen\n",
      "Weight 1.5 & Demand Dataset 0:   34 facilities chosen\n",
      "Weight 1.5 & Demand Dataset 1:   33 facilities chosen\n",
      "Weight 1.5 & Demand Dataset 2:   34 facilities chosen\n",
      "Weight 2.0 & Demand Dataset 0:   34 facilities chosen\n",
      "Weight 2.0 & Demand Dataset 1:   33 facilities chosen\n",
      "Weight 2.0 & Demand Dataset 2:   34 facilities chosen\n"
     ]
    }
   ],
   "source": [
    "# Get Chosen Facility Counts for Each Weight/Demand Combo\n",
    "for i in [0.5, 1.0, 1.5, 2.0]:\n",
    "    for d in range(3):\n",
    "        selName = fr\"LSCP {i}\\LSCP_{i}_{d}\\Facilities\"\n",
    "        selected = arcpy.management.SelectLayerByAttribute(selName, \"NEW_SELECTION\", \"FacilityType = 3\")\n",
    "        ct = arcpy.management.GetCount(selected)\n",
    "        \n",
    "        print(f\"Weight {i} & Demand Dataset {d}:   {ct} facilities chosen\")"
   ]
  },
  {
   "cell_type": "code",
   "execution_count": 37,
   "metadata": {},
   "outputs": [],
   "source": [
    "# Create Merged Dataset of all Facilities\n",
    "facility_datasets = [fr\"LSCP {i}\\LSCP_{i}_{d}\\Facilities\" for d in range(3) for i in [0.5, 1.0, 1.5, 2.0]]\n",
    "output_merge_name = r\"C:\\gitFiles\\GIS5571\\Alternative Fuel Station Optimization\\data\\Project_FGDB.gdb\\Facilities_Merged\"\n",
    "\n",
    "merged = arcpy.management.Merge(facility_datasets, output_merge_name)"
   ]
  },
  {
   "cell_type": "code",
   "execution_count": 38,
   "metadata": {},
   "outputs": [],
   "source": [
    "# Select by Attribute to Eliminate Facilities not Chosen\n",
    "selected = arcpy.management.SelectLayerByAttribute(merged, \"NEW_SELECTION\", \"FacilityType = 3\")\n",
    "\n",
    "# Calculate Summary Stats to Find Counts per SourceOID\n",
    "table_lscp = r\"C:\\gitFiles\\GIS5571\\Alternative Fuel Station Optimization\\data\\Project_FGDB.gdb\\LSCP_Selected_Stats\"\n",
    "\n",
    "arcpy.analysis.Statistics(selected, table_lscp, \"OBJECTID COUNT\", \"SourceOID\")"
   ]
  },
  {
   "cell_type": "markdown",
   "metadata": {},
   "source": [
    "## Maximal Coverage Location Problem (MCLP)"
   ]
  },
  {
   "cell_type": "code",
   "execution_count": 28,
   "metadata": {},
   "outputs": [],
   "source": [
    "# Model MCLP\n",
    "for i in range(15, 26, 5):\n",
    "    for d in range(3):\n",
    "        # Make Model\n",
    "        model = arcpy.na.MakeLocationAllocationAnalysisLayer(\"NetworkFCR2021\", f\"MCLP_{i}fac_{d}\", \"Driving\", \"TO_FACILITIES\", \"MAXIMIZE_COVERAGE\", 20000, i, \"LINEAR\", 1, 10, 1, None, \"LOCAL_TIME_AT_LOCATIONS\", \"STRAIGHT_LINES\", None, \"SKIP\")\n",
    "        arcpy.na.AddLocations(model, \"Facilities\", candidates, \"Name Name #;FacilityType # 0;Weight # 1;Capacity # #;CurbApproach # 0\", \"20000 Meters\", None, \"FunctionalClassRoads SHAPE;NetworkFCR2021_Junctions NONE\", \"MATCH_TO_CLOSEST\", \"APPEND\", \"NO_SNAP\", \"5 Meters\", \"EXCLUDE\", None, \"ALLOW\")\n",
    "        arcpy.na.AddLocations(model, \"Demand Points\", f\"demand_{d}\", \"Name # #;Weight # 1;GroupName # #;ImpedanceTransformation # #;ImpedanceParameter # #;CurbApproach # 0;Cutoff_Minutes # #;Cutoff_TravelTime # #;Cutoff_Miles # #;Cutoff_Kilometers # #;Cutoff_TimeAt1KPH # #;Cutoff_WalkTime # #;Cutoff_TruckMinutes # #;Cutoff_TruckTravelTime # #\", \"20000 Meters\", None, \"FunctionalClassRoads SHAPE;NetworkFCR2021_Junctions NONE\", \"MATCH_TO_CLOSEST\", \"APPEND\", \"NO_SNAP\", \"5 Meters\", \"EXCLUDE\", None, \"ALLOW\")\n",
    "        arcpy.na.Solve(model, \"SKIP\", \"TERMINATE\", None, '')"
   ]
  },
  {
   "cell_type": "code",
   "execution_count": 30,
   "metadata": {},
   "outputs": [
    {
     "name": "stdout",
     "output_type": "stream",
     "text": [
      "Number Facilities 15 & Demand Dataset 0:   982 demand points covered out of 1000 total\n",
      "Number Facilities 15 & Demand Dataset 1:   987 demand points covered out of 1000 total\n",
      "Number Facilities 15 & Demand Dataset 2:   987 demand points covered out of 1000 total\n",
      "Number Facilities 20 & Demand Dataset 0:   995 demand points covered out of 1000 total\n",
      "Number Facilities 20 & Demand Dataset 1:   997 demand points covered out of 1000 total\n",
      "Number Facilities 20 & Demand Dataset 2:   997 demand points covered out of 1000 total\n",
      "Number Facilities 25 & Demand Dataset 0:   995 demand points covered out of 1000 total\n",
      "Number Facilities 25 & Demand Dataset 1:   997 demand points covered out of 1000 total\n",
      "Number Facilities 25 & Demand Dataset 2:   997 demand points covered out of 1000 total\n"
     ]
    }
   ],
   "source": [
    "# Get Chosen Facility Counts for Each Weight/Demand Combo\n",
    "for i in [15, 20, 25]:\n",
    "    for d in range(3):\n",
    "        selName = fr\"MCLP {i}\\MCLP_{i}fac_{d}\\Demand Points\"\n",
    "        selected = arcpy.management.SelectLayerByAttribute(selName, \"NEW_SELECTION\", \"FacilityID IS NOT NULL\")\n",
    "        ct = arcpy.management.GetCount(selected)\n",
    "        \n",
    "        print(f\"Number Facilities {i} & Demand Dataset {d}:   {ct} demand points covered out of 1000 total\")"
   ]
  },
  {
   "cell_type": "code",
   "execution_count": 31,
   "metadata": {},
   "outputs": [],
   "source": [
    "# Create Merged Dataset of all Facilities\n",
    "facility_datasets = [fr\"MCLP {i}\\MCLP_{i}fac_{d}\\Facilities\" for d in range(3) for i in [15, 20, 25]]\n",
    "output_merge_name = r\"C:\\gitFiles\\GIS5571\\Alternative Fuel Station Optimization\\data\\Project_FGDB.gdb\\MCLP_Facilities_Merged\"\n",
    "\n",
    "merged = arcpy.management.Merge(facility_datasets, output_merge_name)"
   ]
  },
  {
   "cell_type": "code",
   "execution_count": 39,
   "metadata": {},
   "outputs": [],
   "source": [
    "# Select by Attribute to Eliminate Facilities not Chosen\n",
    "selected = arcpy.management.SelectLayerByAttribute(merged, \"NEW_SELECTION\", \"FacilityType = 3\")\n",
    "\n",
    "# Calculate Summary Stats to Find Counts per SourceOID\n",
    "table_mclp = r\"C:\\gitFiles\\GIS5571\\Alternative Fuel Station Optimization\\data\\Project_FGDB.gdb\\MCLP_Selected_Stats\"\n",
    "\n",
    "arcpy.analysis.Statistics(selected, table_mclp, \"OBJECTID COUNT\", \"SourceOID\")"
   ]
  }
 ],
 "metadata": {
  "kernelspec": {
   "display_name": "ArcGISPro",
   "language": "Python",
   "name": "python3"
  },
  "language_info": {
   "file_extension": ".py",
   "name": "python",
   "version": "3"
  }
 },
 "nbformat": 4,
 "nbformat_minor": 2
}
