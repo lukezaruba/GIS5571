{
 "cells": [
  {
   "cell_type": "markdown",
   "id": "71bdebf8",
   "metadata": {},
   "source": [
    "# Minnesota DNR LiDAR Data ETL <br> (Lab 2 - Part 1.1)\n",
    "\n",
    "### GIS 5571: ArcGIS I <br> University of Minnesota\n",
    "\n",
    "##### Luke Zaruba <br> October 9, 2022"
   ]
  },
  {
   "cell_type": "code",
   "execution_count": 29,
   "id": "4a9758cf",
   "metadata": {
    "scrolled": false
   },
   "outputs": [],
   "source": [
    "# Import Libraries\n",
    "import arcpy\n",
    "import requests\n",
    "import os\n",
    "from IPython import display"
   ]
  },
  {
   "cell_type": "markdown",
   "id": "105deb7c",
   "metadata": {
    "heading_collapsed": true
   },
   "source": [
    "## Downloading LiDAR Data (Part 1.1.A)"
   ]
  },
  {
   "cell_type": "code",
   "execution_count": 24,
   "id": "c556d70f",
   "metadata": {
    "hidden": true
   },
   "outputs": [],
   "source": [
    "# Function to Prep for Downloading LAS Files\n",
    "def downloadPrep(wd, county=None):\n",
    "    # Create Base Data Storage Folder\n",
    "    data_path = os.path.join(wd, \"data\")\n",
    "    \n",
    "    if os.path.exists(data_path):\n",
    "        pass\n",
    "    else:\n",
    "        os.mkdir(data_path)\n",
    "        \n",
    "    # Check if County or Example, Create Proper Dirs\n",
    "    if county is not None:\n",
    "        county = county.lower()\n",
    "        cty_path = os.path.join(data_path, county)\n",
    "\n",
    "        if os.path.exists(cty_path):\n",
    "            pass\n",
    "        else:\n",
    "            os.mkdir(cty_path)\n",
    "\n",
    "        base_url = \"https://resources.gisdata.mn.gov/pub/data/elevation/lidar/county/CTY/\"\n",
    "        base_url = base_url.replace(\"CTY\", county)\n",
    "        \n",
    "        # Request Tile Map PDF\n",
    "        tile_map_url = base_url + \"tile_index_map.pdf\"\n",
    "\n",
    "        resp = requests.get(tile_map_url)\n",
    "        \n",
    "        pdf_path = os.path.join(cty_path, \"tile_map.pdf\")\n",
    "        \n",
    "        # Write Tile Map to a PDF file\n",
    "        if os.path.exists(pdf_path):\n",
    "            pass\n",
    "        else:\n",
    "            with open(pdf_path, \"wb\") as pdf:\n",
    "                pdf.write(resp.content)\n",
    "                \n",
    "        # Display PDF\n",
    "        pdf_name = \"./data/CTY/tile_map.pdf\".replace(\"CTY\", county)\n",
    "        \n",
    "        # THIS IS NOT SUPPORTED WITHIIN ARCGIS PRO\n",
    "        #return display.IFrame(pdf_name, width=600, height=900)\n",
    "\n",
    "    else:\n",
    "        examples_path = os.path.join(data_path, \"examples\")\n",
    "        \n",
    "        if os.path.exists(examples_path):\n",
    "            pass\n",
    "        else:\n",
    "            os.mkdir(examples_path)"
   ]
  },
  {
   "cell_type": "code",
   "execution_count": 25,
   "id": "9a1d6153",
   "metadata": {
    "hidden": true
   },
   "outputs": [],
   "source": [
    "# Function to Download an LAS File\n",
    "def downloadLAS(wd, tile, county=None):\n",
    "    # Check if file is from a County or from Examples\n",
    "    if county is not None:\n",
    "        county = county.lower()\n",
    "        base_url = \"https://resources.gisdata.mn.gov/pub/data/elevation/lidar/county/CTY/laz/\"\n",
    "        base_url = base_url.replace(\"CTY\", county)\n",
    "        \n",
    "        # Check if Necessary Dir is Created\n",
    "        cty_path = os.path.join(wd, \"data\", county)\n",
    "        \n",
    "        if os.path.exists(cty_path):\n",
    "            pass\n",
    "        else:\n",
    "            raise Exception(\"Run the downloadPrep function, before running the downloadLAS function.\")\n",
    "            \n",
    "        # Download Tile\n",
    "        tile_url = base_url + tile + \".laz\"\n",
    "        \n",
    "        resp = requests.get(tile_url, stream = True)\n",
    "        \n",
    "        laz_path = os.path.join(cty_path, f\"{tile}.laz\")\n",
    "        \n",
    "        if os.path.exists(laz_path):\n",
    "            print(f\"Tile {tile} already exists.\")\n",
    "            pass\n",
    "        else:\n",
    "            with open(laz_path, \"wb\") as laz:\n",
    "                laz.write(resp.content)\n",
    "                print(f\"Download complete for tile {tile}\")\n",
    "    else:\n",
    "        # Download Tile\n",
    "        tile_url = \"https://resources.gisdata.mn.gov/pub/data/elevation/lidar/examples/lidar_sample/las/\" + tile + \".laz\"\n",
    "        \n",
    "        resp = requests.get(tile_url, stream = True)\n",
    "        \n",
    "        ex_path = os.path.join(wd, \"data/examples\")\n",
    "        \n",
    "        laz_path = os.path.join(ex_path, f\"{tile}.las\")\n",
    "        \n",
    "        if os.path.exists(laz_path):\n",
    "            print(f\"Tile {tile} already exists.\")\n",
    "            pass\n",
    "        else:\n",
    "            with open(laz_path, \"wb\") as laz:\n",
    "                laz.write(resp.content)\n",
    "                print(f\"Download complete for tile {tile}.\")"
   ]
  },
  {
   "cell_type": "code",
   "execution_count": 26,
   "id": "0e5c8181",
   "metadata": {
    "hidden": true,
    "scrolled": false
   },
   "outputs": [],
   "source": [
    "# Calling the Prep Function\n",
    "directory = r\"C:\\gitFiles\\GIS5571\\Lab2\"\n",
    "\n",
    "downloadPrep(directory, \"chisago\")"
   ]
  },
  {
   "cell_type": "code",
   "execution_count": 28,
   "id": "d136ac1b",
   "metadata": {
    "hidden": true,
    "scrolled": true
   },
   "outputs": [
    {
     "name": "stdout",
     "output_type": "stream",
     "text": [
      "Tile 3542-20-3 already exists.\n"
     ]
    }
   ],
   "source": [
    "# Calling the Download Function\n",
    "directory = r\"C:\\gitFiles\\GIS5571\\Lab2\"\n",
    "\n",
    "downloadLAS(directory, \"3542-20-3\", \"chisago\")"
   ]
  },
  {
   "cell_type": "markdown",
   "id": "390547a7",
   "metadata": {
    "heading_collapsed": true
   },
   "source": [
    "## Converting and Storing LiDAR Data (Part 1.1.B-C)"
   ]
  },
  {
   "cell_type": "code",
   "execution_count": 41,
   "id": "2e5acf83",
   "metadata": {
    "hidden": true
   },
   "outputs": [],
   "source": [
    "# Inputs\n",
    "laz = r\"C:\\gitFiles\\GIS5571\\Lab2\\data\\aitkin\\1942-32-08.laz\"\n",
    "out_dir = r\"C:\\gitFiles\\GIS5571\\Lab2\\data\\aitkin\"\n",
    "lasd = r\"C:\\gitFiles\\GIS5571\\Lab2\\data\\aitkin\\1942-32-08.lasd\"\n",
    "sr = 'PROJCS[\"NAD_1983_UTM_Zone_15N\",GEOGCS[\"GCS_North_American_1983\",DATUM[\"D_North_American_1983\",SPHEROID[\"GRS_1980\",6378137.0,298.257222101]],PRIMEM[\"Greenwich\",0.0],UNIT[\"Degree\",0.0174532925199433]],PROJECTION[\"Transverse_Mercator\"],PARAMETER[\"False_Easting\",500000.0],PARAMETER[\"False_Northing\",0.0],PARAMETER[\"Central_Meridian\",-93.0],PARAMETER[\"Scale_Factor\",0.9996],PARAMETER[\"Latitude_Of_Origin\",0.0],UNIT[\"Meter\",1.0]]'\n",
    "\n",
    "# Convert LAZ to LAS\n",
    "las = arcpy.conversion.ConvertLas(laz, out_dir, \"1.4\", \"6\", \"NO_COMPRESSION\", \"REARRANGE_POINTS\", lasd, \"ALL_FILES\", sr)"
   ]
  },
  {
   "cell_type": "code",
   "execution_count": 47,
   "id": "818a1b69",
   "metadata": {
    "hidden": true
   },
   "outputs": [],
   "source": [
    "# Convert LASD to TIN\n",
    "tin = arcpy.ddd.LasDatasetToTin(lasd, r\"C:\\gitFiles\\GIS5571\\Lab2\\data\\aitkin\\1942-32-08_TIN\", \"WINDOW_SIZE\", \"MIN\", 15, 5000000, 1, \"CLIP\")"
   ]
  },
  {
   "cell_type": "code",
   "execution_count": 49,
   "id": "1f6422fe",
   "metadata": {
    "hidden": true
   },
   "outputs": [],
   "source": [
    "# Convert LASD to DEM\n",
    "dem = arcpy.conversion.LasDatasetToRaster(lasd, r\"c:\\gitFiles\\GIS5571\\Lab2\\data\\aitkin\\dem.tif\")"
   ]
  },
  {
   "cell_type": "markdown",
   "id": "c4534943",
   "metadata": {
    "heading_collapsed": true
   },
   "source": [
    "## Mapping LiDAR Data (Part 1.1.D)"
   ]
  },
  {
   "cell_type": "code",
   "execution_count": 50,
   "id": "02a5502d",
   "metadata": {
    "hidden": true
   },
   "outputs": [
    {
     "data": {
      "text/plain": [
       "'C:\\\\gitFiles\\\\GIS5571\\\\Lab2\\\\data\\\\aitkin\\\\1942-32-08_tin.pdf'"
      ]
     },
     "execution_count": 50,
     "metadata": {},
     "output_type": "execute_result"
    }
   ],
   "source": [
    "# Set APRX and Layout\n",
    "aprx = arcpy.mp.ArcGISProject(\"CURRENT\")\n",
    "tin_lyt = aprx.listLayouts(\"TIN\")[0]\n",
    "\n",
    "# Export Layout to PDF\n",
    "tin_lyt.exportToPDF(r\"C:\\gitFiles\\GIS5571\\Lab2\\data\\aitkin\\1942-32-08_tin.pdf\", resolution = 300)"
   ]
  },
  {
   "cell_type": "code",
   "execution_count": 51,
   "id": "3aeafc27",
   "metadata": {
    "hidden": true
   },
   "outputs": [
    {
     "data": {
      "text/plain": [
       "'C:\\\\gitFiles\\\\GIS5571\\\\Lab2\\\\data\\\\aitkin\\\\1942-32-08_dem.pdf'"
      ]
     },
     "execution_count": 51,
     "metadata": {},
     "output_type": "execute_result"
    }
   ],
   "source": [
    "# Set APRX and Layout\n",
    "aprx = arcpy.mp.ArcGISProject(\"CURRENT\")\n",
    "dem_lyt = aprx.listLayouts(\"DEM\")[0]\n",
    "\n",
    "# Export Layout to PDF\n",
    "dem_lyt.exportToPDF(r\"C:\\gitFiles\\GIS5571\\Lab2\\data\\aitkin\\1942-32-08_dem.pdf\", resolution = 300)"
   ]
  }
 ],
 "metadata": {
  "kernelspec": {
   "display_name": "ArcGISPro",
   "language": "Python",
   "name": "python3"
  },
  "language_info": {
   "file_extension": ".py",
   "name": "python",
   "version": "3"
  }
 },
 "nbformat": 4,
 "nbformat_minor": 5
}
