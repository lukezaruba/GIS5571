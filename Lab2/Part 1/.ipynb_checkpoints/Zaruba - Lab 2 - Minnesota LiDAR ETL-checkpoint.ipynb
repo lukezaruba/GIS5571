{
 "cells": [
  {
   "cell_type": "markdown",
   "id": "e8d27c17",
   "metadata": {},
   "source": [
    "# Minnesota DNR LiDAR Data ETL <br> (Lab 2 - Part 1.1)\n",
    "\n",
    "### GIS 5571: ArcGIS I <br> University of Minnesota\n",
    "\n",
    "##### Luke Zaruba <br> October 9, 2022"
   ]
  },
  {
   "cell_type": "code",
   "execution_count": 29,
   "id": "43430a88",
   "metadata": {
    "scrolled": false
   },
   "outputs": [],
   "source": [
    "# Import Libraries\n",
    "import arcpy\n",
    "import requests\n",
    "import os\n",
    "from IPython import display"
   ]
  },
  {
   "cell_type": "markdown",
   "id": "07a7569e",
   "metadata": {},
   "source": [
    "## Downloading LiDAR Data (Part 1.1.A)"
   ]
  },
  {
   "cell_type": "code",
   "execution_count": 24,
   "id": "38a8a5e4",
   "metadata": {},
   "outputs": [],
   "source": [
    "# Function to Prep for Downloading LAS Files\n",
    "def downloadPrep(wd, county=None):\n",
    "    # Create Base Data Storage Folder\n",
    "    data_path = os.path.join(wd, \"data\")\n",
    "    \n",
    "    if os.path.exists(data_path):\n",
    "        pass\n",
    "    else:\n",
    "        os.mkdir(data_path)\n",
    "        \n",
    "    # Check if County or Example, Create Proper Dirs\n",
    "    if county is not None:\n",
    "        county = county.lower()\n",
    "        cty_path = os.path.join(data_path, county)\n",
    "\n",
    "        if os.path.exists(cty_path):\n",
    "            pass\n",
    "        else:\n",
    "            os.mkdir(cty_path)\n",
    "\n",
    "        base_url = \"https://resources.gisdata.mn.gov/pub/data/elevation/lidar/county/CTY/\"\n",
    "        base_url = base_url.replace(\"CTY\", county)\n",
    "        \n",
    "        # Request Tile Map PDF\n",
    "        tile_map_url = base_url + \"tile_index_map.pdf\"\n",
    "\n",
    "        resp = requests.get(tile_map_url)\n",
    "        \n",
    "        pdf_path = os.path.join(cty_path, \"tile_map.pdf\")\n",
    "        \n",
    "        # Write Tile Map to a PDF file\n",
    "        if os.path.exists(pdf_path):\n",
    "            pass\n",
    "        else:\n",
    "            with open(pdf_path, \"wb\") as pdf:\n",
    "                pdf.write(resp.content)\n",
    "                \n",
    "        # Display PDF\n",
    "        pdf_name = \"./data/CTY/tile_map.pdf\".replace(\"CTY\", county)\n",
    "        \n",
    "        # THIS IS NOT SUPPORTED WITHIMN ARCGIS PRO\n",
    "        #return display.IFrame(pdf_name, width=600, height=900)\n",
    "\n",
    "    else:\n",
    "        examples_path = os.path.join(data_path, \"examples\")\n",
    "        \n",
    "        if os.path.exists(examples_path):\n",
    "            pass\n",
    "        else:\n",
    "            os.mkdir(examples_path)"
   ]
  },
  {
   "cell_type": "code",
   "execution_count": 25,
   "id": "615921e1",
   "metadata": {},
   "outputs": [],
   "source": [
    "# Function to Download an LAS File\n",
    "def downloadLAS(wd, tile, county=None):\n",
    "    # Check if file is from a County or from Examples\n",
    "    if county is not None:\n",
    "        county = county.lower()\n",
    "        base_url = \"https://resources.gisdata.mn.gov/pub/data/elevation/lidar/county/CTY/laz/\"\n",
    "        base_url = base_url.replace(\"CTY\", county)\n",
    "        \n",
    "        # Check if Necessary Dir is Created\n",
    "        cty_path = os.path.join(wd, \"data\", county)\n",
    "        \n",
    "        if os.path.exists(cty_path):\n",
    "            pass\n",
    "        else:\n",
    "            raise Exception(\"Run the downloadPrep function, before running the downloadLAS function.\")\n",
    "            \n",
    "        # Download Tile\n",
    "        tile_url = base_url + tile + \".laz\"\n",
    "        \n",
    "        resp = requests.get(tile_url, stream = True)\n",
    "        \n",
    "        laz_path = os.path.join(cty_path, f\"{tile}.laz\")\n",
    "        \n",
    "        if os.path.exists(laz_path):\n",
    "            print(f\"Tile {tile} already exists.\")\n",
    "            pass\n",
    "        else:\n",
    "            with open(laz_path, \"wb\") as laz:\n",
    "                laz.write(resp.content)\n",
    "                print(f\"Download complete for tile {tile}\")\n",
    "    else:\n",
    "        # Download Tile\n",
    "        tile_url = \"https://resources.gisdata.mn.gov/pub/data/elevation/lidar/examples/lidar_sample/las/\" + tile + \".laz\"\n",
    "        \n",
    "        resp = requests.get(tile_url, stream = True)\n",
    "        \n",
    "        ex_path = os.path.join(wd, \"data/examples\")\n",
    "        \n",
    "        laz_path = os.path.join(ex_path, f\"{tile}.las\")\n",
    "        \n",
    "        if os.path.exists(laz_path):\n",
    "            print(f\"Tile {tile} already exists.\")\n",
    "            pass\n",
    "        else:\n",
    "            with open(laz_path, \"wb\") as laz:\n",
    "                laz.write(resp.content)\n",
    "                print(f\"Download complete for tile {tile}.\")"
   ]
  },
  {
   "cell_type": "code",
   "execution_count": 26,
   "id": "8e02de6d",
   "metadata": {
    "scrolled": false
   },
   "outputs": [],
   "source": [
    "# Calling the Prep Function\n",
    "directory = r\"C:\\gitFiles\\GIS5571\\Lab2\"\n",
    "\n",
    "downloadPrep(directory, \"chisago\")"
   ]
  },
  {
   "cell_type": "code",
   "execution_count": 28,
   "id": "0ae87074",
   "metadata": {
    "scrolled": true
   },
   "outputs": [
    {
     "name": "stdout",
     "output_type": "stream",
     "text": [
      "Tile 3542-20-3 already exists.\n"
     ]
    }
   ],
   "source": [
    "# Calling the Download Function\n",
    "directory = r\"C:\\gitFiles\\GIS5571\\Lab2\"\n",
    "\n",
    "downloadLAS(directory, \"3542-20-3\", \"chisago\")"
   ]
  },
  {
   "cell_type": "markdown",
   "id": "899ddca3",
   "metadata": {},
   "source": [
    "## Converting and Storing LiDAR Data (Part 1.1.B-C)"
   ]
  },
  {
   "cell_type": "code",
   "execution_count": null,
   "id": "35a8c516",
   "metadata": {},
   "outputs": [],
   "source": [
    "def convertToTINandDEM(las, gdb):\n",
    "    tile_name = las\n",
    "    \n",
    "    dem = arcpy.management.CreateLASDataset(las, os.path.join(gdb, \"mylasd.lasd\"))"
   ]
  },
  {
   "cell_type": "markdown",
   "id": "655a55a3",
   "metadata": {},
   "source": [
    "## Mapping LiDAR Data (Part 1.1.D)"
   ]
  }
 ],
 "metadata": {
  "kernelspec": {
   "display_name": "ArcGISPro",
   "language": "Python",
   "name": "python3"
  },
  "language_info": {
   "file_extension": ".py",
   "name": "python",
   "version": "3"
  }
 },
 "nbformat": 4,
 "nbformat_minor": 5
}
