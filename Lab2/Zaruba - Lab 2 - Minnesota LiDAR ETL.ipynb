{
 "cells": [
  {
   "cell_type": "markdown",
   "id": "6fe306c8",
   "metadata": {},
   "source": [
    "# Minnesota DNR LiDAR Data ETL <br> (Lab 2 - Part 1.1)\n",
    "\n",
    "### GIS 5571: ArcGIS I <br> University of Minnesota\n",
    "\n",
    "##### Luke Zaruba <br> October 9, 2022"
   ]
  },
  {
   "cell_type": "markdown",
   "id": "5e512c3f",
   "metadata": {},
   "source": [
    "## Downloading LiDAR Data (Part 1.1.A)"
   ]
  },
  {
   "cell_type": "code",
   "execution_count": 104,
   "id": "ffa7beef",
   "metadata": {},
   "outputs": [],
   "source": [
    "# Import Libraries\n",
    "import requests\n",
    "import os\n",
    "from IPython.display import IFrame"
   ]
  },
  {
   "cell_type": "code",
   "execution_count": 100,
   "id": "39f3ab4d",
   "metadata": {},
   "outputs": [],
   "source": [
    "# Function to Prep for Downloading LAS Files\n",
    "def downloadPrep(county=None):\n",
    "    # Create Base Data Storage Folder\n",
    "    data_path = os.path.join(os.getcwd(), \"data\")\n",
    "    \n",
    "    if os.path.exists(data_path):\n",
    "        pass\n",
    "    else:\n",
    "        os.mkdir(data_path)\n",
    "        \n",
    "    # Check if County or Example, Create Proper Dirs\n",
    "    if county is not None:\n",
    "        county = county.lower()\n",
    "        cty_path = os.path.join(data_path, county)\n",
    "\n",
    "        if os.path.exists(cty_path):\n",
    "            pass\n",
    "        else:\n",
    "            os.mkdir(cty_path)\n",
    "\n",
    "        base_url = \"https://resources.gisdata.mn.gov/pub/data/elevation/lidar/county/CTY/\"\n",
    "        base_url = base_url.replace(\"CTY\", county)\n",
    "        \n",
    "        # Request Tile Map PDF\n",
    "        tile_map_url = base_url + \"tile_index_map.pdf\"\n",
    "\n",
    "        resp = requests.get(tile_map_url)\n",
    "        \n",
    "        pdf_path = os.path.join(cty_path, \"tile_map.pdf\")\n",
    "        \n",
    "        # Write Tile Map to a PDF file\n",
    "        if os.path.exists(pdf_path):\n",
    "            pass\n",
    "        else:\n",
    "            with open(pdf_path, \"wb\") as pdf:\n",
    "                pdf.write(resp.content)\n",
    "                \n",
    "        # Display PDF\n",
    "        pdf_name = \"./data/CTY/tile_map.pdf\".replace(\"CTY\", county)\n",
    "        \n",
    "        return IFrame(pdf_name, width=600, height=900)\n",
    "\n",
    "    else:\n",
    "        examples_path = os.path.join(data_path, \"examples\")\n",
    "        \n",
    "        if os.path.exists(examples_path):\n",
    "            pass\n",
    "        else:\n",
    "            os.mkdir(examples_path)"
   ]
  },
  {
   "cell_type": "code",
   "execution_count": 96,
   "id": "792744bf",
   "metadata": {},
   "outputs": [],
   "source": [
    "# Function to Download an LAS File\n",
    "def downloadLAS(tile, county=None):\n",
    "    # Check if file is from a County or from Examples\n",
    "    if county is not None:\n",
    "        county = county.lower()\n",
    "        base_url = \"https://resources.gisdata.mn.gov/pub/data/elevation/lidar/county/CTY/laz/\"\n",
    "        base_url = base_url.replace(\"CTY\", county)\n",
    "        \n",
    "        # Check if Necessary Dir is Created\n",
    "        cty_path = os.path.join(os.getcwd(), \"data\", county)\n",
    "        \n",
    "        if os.path.exists(cty_path):\n",
    "            pass\n",
    "        else:\n",
    "            raise Exception(\"Run the downloadPrep function, before running the downloadLAS function.\")\n",
    "            \n",
    "        # Download Tile\n",
    "        tile_url = base_url + tile + \".laz\"\n",
    "        \n",
    "        resp = requests.get(tile_url, stream = True)\n",
    "        \n",
    "        laz_path = os.path.join(cty_path, f\"{tile}.laz\")\n",
    "        \n",
    "        if os.path.exists(laz_path):\n",
    "            print(f\"Tile {tile} already exists.\")\n",
    "            pass\n",
    "        else:\n",
    "            with open(laz_path, \"wb\") as laz:\n",
    "                laz.write(resp.content)\n",
    "                print(f\"Download complete for tile {tile}\")\n",
    "    else:\n",
    "        # Download Tile\n",
    "        tile_url = \"https://resources.gisdata.mn.gov/pub/data/elevation/lidar/examples/lidar_sample/las/\" + tile + \".laz\"\n",
    "        \n",
    "        resp = requests.get(tile_url, stream = True)\n",
    "        \n",
    "        ex_path = os.path.join(os.getcwd(), \"data/examples\")\n",
    "        \n",
    "        laz_path = os.path.join(ex_path, f\"{tile}.las\")\n",
    "        \n",
    "        if os.path.exists(laz_path):\n",
    "            print(f\"Tile {tile} already exists.\")\n",
    "            pass\n",
    "        else:\n",
    "            with open(laz_path, \"wb\") as laz:\n",
    "                laz.write(resp.content)\n",
    "                print(f\"Download complete for tile {tile}.\")"
   ]
  },
  {
   "cell_type": "code",
   "execution_count": 102,
   "id": "3e6e9407",
   "metadata": {
    "scrolled": false
   },
   "outputs": [
    {
     "data": {
      "text/html": [
       "\n",
       "        <iframe\n",
       "            width=\"600\"\n",
       "            height=\"900\"\n",
       "            src=\"./data/chisago/tile_map.pdf\"\n",
       "            frameborder=\"0\"\n",
       "            allowfullscreen\n",
       "            \n",
       "        ></iframe>\n",
       "        "
      ],
      "text/plain": [
       "<IPython.lib.display.IFrame at 0x2b499f18fd0>"
      ]
     },
     "execution_count": 102,
     "metadata": {},
     "output_type": "execute_result"
    }
   ],
   "source": [
    "# Calling the Prep Function\n",
    "downloadPrep(\"chisago\")"
   ]
  },
  {
   "cell_type": "code",
   "execution_count": 103,
   "id": "054d9e8f",
   "metadata": {
    "scrolled": true
   },
   "outputs": [
    {
     "name": "stdout",
     "output_type": "stream",
     "text": [
      "Download complete for tile 3542-20-3\n"
     ]
    }
   ],
   "source": [
    "# Calling the Download Function\n",
    "downloadLAS(\"3542-20-3\", \"chisago\")"
   ]
  },
  {
   "cell_type": "markdown",
   "id": "c7063f59",
   "metadata": {},
   "source": [
    "## Converting and Storing LiDAR Data (Part 1.1.B-C)"
   ]
  },
  {
   "cell_type": "markdown",
   "id": "4109a661",
   "metadata": {},
   "source": [
    "## Mapping LiDAR Data (Part 1.1.D)"
   ]
  }
 ],
 "metadata": {
  "kernelspec": {
   "display_name": "Python 3 (ipykernel)",
   "language": "python",
   "name": "python3"
  },
  "language_info": {
   "codemirror_mode": {
    "name": "ipython",
    "version": 3
   },
   "file_extension": ".py",
   "mimetype": "text/x-python",
   "name": "python",
   "nbconvert_exporter": "python",
   "pygments_lexer": "ipython3",
   "version": "3.9.7"
  }
 },
 "nbformat": 4,
 "nbformat_minor": 5
}
