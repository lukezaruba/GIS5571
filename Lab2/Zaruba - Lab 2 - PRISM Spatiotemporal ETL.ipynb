{
 "cells": [
  {
   "cell_type": "markdown",
   "metadata": {},
   "source": [
    "# PRISM Spatiotemporal ETL <br> (Lab 2 - Part 1.3)\n",
    "\n",
    "### GIS 5571: ArcGIS I <br> University of Minnesota\n",
    "\n",
    "##### Luke Zaruba <br> October 9, 2022"
   ]
  },
  {
   "cell_type": "markdown",
   "metadata": {},
   "source": [
    "## Downloading PRISM Data (Part 1.3.A)"
   ]
  },
  {
   "cell_type": "code",
   "execution_count": 8,
   "metadata": {},
   "outputs": [],
   "source": [
    "# Import Libraries\n",
    "import requests\n",
    "import os\n",
    "from zipfile import ZipFile"
   ]
  },
  {
   "cell_type": "code",
   "execution_count": 17,
   "metadata": {},
   "outputs": [
    {
     "name": "stdout",
     "output_type": "stream",
     "text": [
      "ZIP file already exists.\n",
      "File has already been unzipped.\n"
     ]
    }
   ],
   "source": [
    "# Setting File Paths for Outputs\n",
    "zip_path = os.path.join(os.getcwd(), \"data/PRISM\")\n",
    "file_name = os.path.join(zip_path, \"PRISM_ppt_30yr_normal_4kmM3_all_bil.zip\")\n",
    "\n",
    "# Check if Path Exists\n",
    "if os.path.exists(zip_path) == False:\n",
    "    os.mkdir(zip_path)\n",
    "\n",
    "# Send Request\n",
    "base_url = \"https://ftp.prism.oregonstate.edu/normals_4km/ppt/PRISM_ppt_30yr_normal_4kmM3_all_bil.zip\"\n",
    "\n",
    "resp = requests.get(base_url)\n",
    "\n",
    "# Write Response to ZIP File\n",
    "if os.path.exists(file_name) == False:\n",
    "    with open(file_name, \"wb\") as z:\n",
    "        z.write(resp.content)\n",
    "else:\n",
    "    print(\"ZIP file already exists.\")\n",
    "\n",
    "# Unzipping File\n",
    "if os.path.exists(file_name[:-3]) == False:\n",
    "    with ZipFile(file_name, \"r\") as zipped:\n",
    "        zipped.extractall(file_name[:-3])\n",
    "else:\n",
    "    print(\"File has already been unzipped.\")"
   ]
  },
  {
   "cell_type": "markdown",
   "metadata": {},
   "source": [
    "## Converting to Spacetime Cube (Part 1.3.B)"
   ]
  },
  {
   "cell_type": "code",
   "execution_count": 54,
   "metadata": {},
   "outputs": [],
   "source": [
    "# Create Empty Mosaic\n",
    "sr = arcpy.SpatialReference(3857)\n",
    "empty_mosaic = arcpy.management.CreateMosaicDataset(r\"C:\\gitFiles\\GIS5571\\Lab2\\Lab2_APRX\\Lab2_APRX.gdb\", \"prism_mosaic\", sr)"
   ]
  },
  {
   "cell_type": "code",
   "execution_count": 55,
   "metadata": {},
   "outputs": [],
   "source": [
    "# Add Rasters to Mosaic\n",
    "mosaic = arcpy.management.AddRastersToMosaicDataset(empty_mosaic, \"Raster Dataset\", r\"C:\\gitFiles\\GIS5571\\Lab2\\data\\PRISM\\PRISM_ppt_30yr_normal_4kmM3_all_bil\")"
   ]
  },
  {
   "cell_type": "code",
   "execution_count": 57,
   "metadata": {},
   "outputs": [
    {
     "data": {
      "text/html": [
       "<div class='gpresult'><h2>Messages</h2><div id='messages' data-messages='[\"Start Time: Sunday, October 23, 2022 2:35:10 PM\",\"Succeeded at Sunday, October 23, 2022 2:35:10 PM (Elapsed Time: 0.08 seconds)\"]' data-show='true'><div id = 'default' /></div></div>"
      ],
      "text/plain": [
       "<Result 'prism_mosaic\\\\Footprint'>"
      ]
     },
     "execution_count": 57,
     "metadata": {},
     "output_type": "execute_result"
    }
   ],
   "source": [
    "# Add Necessary Fields\n",
    "arcpy.management.CalculateField(r\"prism_mosaic\\Footprint\", \"Variable\", '\"Precip\"', \"PYTHON3\", '', \"TEXT\", \"NO_ENFORCE_DOMAINS\")\n",
    "arcpy.management.CalculateField(r\"prism_mosaic\\Footprint\", \"Timestamp\", 'DateAdd(Date(2022, 0, 1), $feature.OBJECTID-1, \"month\")', \"ARCADE\", '', \"DATE\", \"NO_ENFORCE_DOMAINS\")"
   ]
  },
  {
   "cell_type": "code",
   "execution_count": 58,
   "metadata": {},
   "outputs": [
    {
     "data": {
      "text/html": [
       "<div class='gpresult'><h2>Messages</h2><div id='messages' data-messages='[\"Start Time: Sunday, October 23, 2022 2:43:43 PM\",\"Succeeded at Sunday, October 23, 2022 2:43:43 PM (Elapsed Time: 0.61 seconds)\"]' data-show='true'><div id = 'default' /></div></div>"
      ],
      "text/plain": [
       "<Result 'prism_mosaic'>"
      ]
     },
     "execution_count": 58,
     "metadata": {},
     "output_type": "execute_result"
    }
   ],
   "source": [
    "# Build Multidimensional Info\n",
    "arcpy.md.BuildMultidimensionalInfo(\"prism_mosaic\", \"Variable\", \"Timestamp # #\", None, \"NO_DELETE_MULTIDIMENSIONAL_INFO\")"
   ]
  },
  {
   "cell_type": "code",
   "execution_count": 61,
   "metadata": {},
   "outputs": [],
   "source": [
    "# Create Multidimensional Raster\n",
    "md = arcpy.md.MakeMultidimensionalRasterLayer(\"prism_mosaic\", r\"C:\\gitFiles\\GIS5571\\Lab2\\data\\PRISM\\prism_md\", [\"Precip\"], \"ALL\")"
   ]
  },
  {
   "cell_type": "code",
   "execution_count": 62,
   "metadata": {},
   "outputs": [],
   "source": [
    "# Create Space Time Cube\n",
    "stc = arcpy.stpm.CreateSpaceTimeCubeMDRasterLayer(md, r\"C:\\gitFiles\\GIS5571\\Lab2\\data\\PRISM\\prism_stc.nc\", \"ZEROS\")"
   ]
  },
  {
   "cell_type": "markdown",
   "metadata": {},
   "source": [
    "## Spacetime Cube Animation (Part 1.3.C)"
   ]
  }
 ],
 "metadata": {
  "kernelspec": {
   "display_name": "Python 3",
   "language": "python",
   "name": "python3"
  },
  "language_info": {
   "codemirror_mode": {
    "name": "ipython",
    "version": 3
   },
   "file_extension": ".py",
   "mimetype": "text/x-python",
   "name": "python",
   "nbconvert_exporter": "python",
   "pygments_lexer": "ipython3",
   "version": "3.8.5"
  }
 },
 "nbformat": 4,
 "nbformat_minor": 5
}
