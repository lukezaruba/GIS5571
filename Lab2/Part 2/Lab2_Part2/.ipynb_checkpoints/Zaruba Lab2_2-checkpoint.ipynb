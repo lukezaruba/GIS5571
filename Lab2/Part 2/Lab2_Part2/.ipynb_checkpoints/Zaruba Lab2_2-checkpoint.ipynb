{
 "cells": [
  {
   "cell_type": "markdown",
   "metadata": {},
   "source": [
    "# Route Optimization with Suitability Modelling <br> (Lab 2 - Part 2)\n",
    "\n",
    "### GIS 5571: ArcGIS I <br> University of Minnesota\n",
    "\n",
    "##### Luke Zaruba <br> October 25, 2022"
   ]
  },
  {
   "cell_type": "code",
   "execution_count": 3,
   "metadata": {},
   "outputs": [],
   "source": [
    "import arcpy\n",
    "import requests\n",
    "import os\n",
    "import glob\n",
    "import shutil"
   ]
  },
  {
   "cell_type": "markdown",
   "metadata": {
    "heading_collapsed": true
   },
   "source": [
    "### Elevation Data Prep"
   ]
  },
  {
   "cell_type": "code",
   "execution_count": 18,
   "metadata": {
    "hidden": true
   },
   "outputs": [],
   "source": [
    "def downloadLAZ(county, tile):\n",
    "    # Set up URL\n",
    "    county = county.lower()\n",
    "    base_url = \"https://resources.gisdata.mn.gov/pub/data/elevation/lidar/county/CTY/laz/\"\n",
    "    base_url = base_url.replace(\"CTY\", county)\n",
    "\n",
    "    # Download Tile\n",
    "    tile_url = base_url + tile + \".laz\"\n",
    "\n",
    "    resp = requests.get(tile_url, stream = True)\n",
    "\n",
    "    # Write Tile to File\n",
    "    laz_name = f\"./laz/{tile}.laz\"\n",
    "\n",
    "    with open(laz_name, \"wb\") as laz:\n",
    "        laz.write(resp.content)\n",
    "        print(f\"Download complete for tile {tile}\")\n",
    "\n",
    "\n",
    "def convertLAZtoLAS(laz):\n",
    "    # Create Variables\n",
    "    sr = 'PROJCS[\"NAD_1983_UTM_Zone_15N\",GEOGCS[\"GCS_North_American_1983\",DATUM[\"D_North_American_1983\",SPHEROID[\"GRS_1980\",6378137.0,298.257222101]],PRIMEM[\"Greenwich\",0.0],UNIT[\"Degree\",0.0174532925199433]],PROJECTION[\"Transverse_Mercator\"],PARAMETER[\"False_Easting\",500000.0],PARAMETER[\"False_Northing\",0.0],PARAMETER[\"Central_Meridian\",-93.0],PARAMETER[\"Scale_Factor\",0.9996],PARAMETER[\"Latitude_Of_Origin\",0.0],UNIT[\"Meter\",1.0]]'\n",
    "    out_dir = \"./las\"\n",
    "    \n",
    "    # Convert\n",
    "    arcpy.conversion.ConvertLas(laz, out_dir, \"1.4\", \"6\", \"NO_COMPRESSION\", \"REARRANGE_POINTS\", None, \"ALL_FILES\", sr)\n",
    "    print(f\"{laz} successfully converted.\")"
   ]
  },
  {
   "cell_type": "code",
   "execution_count": 13,
   "metadata": {
    "hidden": true
   },
   "outputs": [
    {
     "name": "stdout",
     "output_type": "stream",
     "text": [
      "Download complete for tile 4342-30-59\n",
      "Download complete for tile 4342-30-60\n",
      "Download complete for tile 4342-30-61\n",
      "Download complete for tile 4342-30-62\n",
      "Download complete for tile 4342-31-59\n",
      "Download complete for tile 4342-31-60\n",
      "Download complete for tile 4342-31-61\n",
      "Download complete for tile 4342-31-62\n",
      "Download complete for tile 4342-28-59\n",
      "Download complete for tile 4342-28-60\n",
      "Download complete for tile 4342-28-61\n",
      "Download complete for tile 4342-28-62\n",
      "Download complete for tile 4342-29-59\n",
      "Download complete for tile 4342-29-60\n",
      "Download complete for tile 4342-29-61\n",
      "Download complete for tile 4342-29-62\n",
      "Download complete for tile 4342-28-63\n",
      "Download complete for tile 4342-29-63\n",
      "Download complete for tile 4342-30-63\n",
      "Download complete for tile 4342-31-63\n"
     ]
    }
   ],
   "source": [
    "# Create Lists of Tiles Needed\n",
    "olmsted_tiles= ['4342-30-59', '4342-30-60', '4342-30-61', '4342-30-62', '4342-31-59', '4342-31-60', '4342-31-61', '4342-31-62']\n",
    "wabasha_tiles = ['4342-28-59', '4342-28-60', '4342-28-61', '4342-28-62', '4342-29-59', '4342-29-60', '4342-29-61', '4342-29-62']\n",
    "winona_tiles = ['4342-28-63', '4342-29-63', '4342-30-63', '4342-31-63']\n",
    "\n",
    "# Iteratively run the downloadLAZ Function\n",
    "for i in olmsted_tiles:\n",
    "    downloadLAZ(\"olmsted\", i)\n",
    "for i in wabasha_tiles:\n",
    "    downloadLAZ(\"wabasha\", i)\n",
    "for i in winona_tiles:\n",
    "    downloadLAZ(\"winona\", i)"
   ]
  },
  {
   "cell_type": "code",
   "execution_count": 20,
   "metadata": {
    "hidden": true
   },
   "outputs": [
    {
     "name": "stdout",
     "output_type": "stream",
     "text": [
      "./laz/4342-30-59.laz successfully converted.\n",
      "./laz/4342-30-60.laz successfully converted.\n",
      "./laz/4342-30-61.laz successfully converted.\n",
      "./laz/4342-30-62.laz successfully converted.\n",
      "./laz/4342-31-59.laz successfully converted.\n",
      "./laz/4342-31-60.laz successfully converted.\n",
      "./laz/4342-31-61.laz successfully converted.\n",
      "./laz/4342-31-62.laz successfully converted.\n",
      "./laz/4342-28-59.laz successfully converted.\n",
      "./laz/4342-28-60.laz successfully converted.\n",
      "./laz/4342-28-61.laz successfully converted.\n",
      "./laz/4342-28-62.laz successfully converted.\n",
      "./laz/4342-29-59.laz successfully converted.\n",
      "./laz/4342-29-60.laz successfully converted.\n",
      "./laz/4342-29-61.laz successfully converted.\n",
      "./laz/4342-29-62.laz successfully converted.\n",
      "./laz/4342-28-63.laz successfully converted.\n",
      "./laz/4342-29-63.laz successfully converted.\n",
      "./laz/4342-30-63.laz successfully converted.\n",
      "./laz/4342-31-63.laz successfully converted.\n"
     ]
    }
   ],
   "source": [
    "# Create Combined Lists of All Tile Names\n",
    "combined_list = olmsted_tiles + wabasha_tiles + winona_tiles\n",
    "\n",
    "# Iteratively Convert LAZ to LAS\n",
    "for i in combined_list:\n",
    "    laz = f\"./laz/{i}.laz\"\n",
    "    convertLAZtoLAS(laz)"
   ]
  },
  {
   "cell_type": "code",
   "execution_count": 21,
   "metadata": {
    "hidden": true
   },
   "outputs": [],
   "source": [
    "# Create LASD\n",
    "sr = 'PROJCS[\"NAD_1983_UTM_Zone_15N\",GEOGCS[\"GCS_North_American_1983\",DATUM[\"D_North_American_1983\",SPHEROID[\"GRS_1980\",6378137.0,298.257222101]],PRIMEM[\"Greenwich\",0.0],UNIT[\"Degree\",0.0174532925199433]],PROJECTION[\"Transverse_Mercator\"],PARAMETER[\"False_Easting\",500000.0],PARAMETER[\"False_Northing\",0.0],PARAMETER[\"Central_Meridian\",-93.0],PARAMETER[\"Scale_Factor\",0.9996],PARAMETER[\"Latitude_Of_Origin\",0.0],UNIT[\"Meter\",1.0]]'\n",
    "las_files = r\"'C:\\gitFiles\\GIS5571\\Lab2\\Part 2\\Lab2_Part2\\las\\4342-28-59.las';'C:\\gitFiles\\GIS5571\\Lab2\\Part 2\\Lab2_Part2\\las\\4342-28-60.las';'C:\\gitFiles\\GIS5571\\Lab2\\Part 2\\Lab2_Part2\\las\\4342-28-61.las';'C:\\gitFiles\\GIS5571\\Lab2\\Part 2\\Lab2_Part2\\las\\4342-28-62.las';'C:\\gitFiles\\GIS5571\\Lab2\\Part 2\\Lab2_Part2\\las\\4342-28-63.las';'C:\\gitFiles\\GIS5571\\Lab2\\Part 2\\Lab2_Part2\\las\\4342-29-59.las';'C:\\gitFiles\\GIS5571\\Lab2\\Part 2\\Lab2_Part2\\las\\4342-29-60.las';'C:\\gitFiles\\GIS5571\\Lab2\\Part 2\\Lab2_Part2\\las\\4342-29-61.las';'C:\\gitFiles\\GIS5571\\Lab2\\Part 2\\Lab2_Part2\\las\\4342-29-62.las';'C:\\gitFiles\\GIS5571\\Lab2\\Part 2\\Lab2_Part2\\las\\4342-29-63.las';'C:\\gitFiles\\GIS5571\\Lab2\\Part 2\\Lab2_Part2\\las\\4342-30-59.las';'C:\\gitFiles\\GIS5571\\Lab2\\Part 2\\Lab2_Part2\\las\\4342-30-60.las';'C:\\gitFiles\\GIS5571\\Lab2\\Part 2\\Lab2_Part2\\las\\4342-30-61.las';'C:\\gitFiles\\GIS5571\\Lab2\\Part 2\\Lab2_Part2\\las\\4342-30-62.las';'C:\\gitFiles\\GIS5571\\Lab2\\Part 2\\Lab2_Part2\\las\\4342-30-63.las';'C:\\gitFiles\\GIS5571\\Lab2\\Part 2\\Lab2_Part2\\las\\4342-31-59.las';'C:\\gitFiles\\GIS5571\\Lab2\\Part 2\\Lab2_Part2\\las\\4342-31-60.las';'C:\\gitFiles\\GIS5571\\Lab2\\Part 2\\Lab2_Part2\\las\\4342-31-61.las';'C:\\gitFiles\\GIS5571\\Lab2\\Part 2\\Lab2_Part2\\las\\4342-31-62.las';'C:\\gitFiles\\GIS5571\\Lab2\\Part 2\\Lab2_Part2\\las\\4342-31-63.las'\"\n",
    "lasd_name = r\"C:\\gitFiles\\GIS5571\\Lab2\\Part 2\\Lab2_Part2\\final_lasd.lasd\"\n",
    "\n",
    "lasd = arcpy.management.CreateLasDataset(las_files, lasd_name, \"NO_RECURSION\", None, sr, \"COMPUTE_STATS\", \"ABSOLUTE_PATHS\", \"NO_FILES\", \"DEFAULT\", None, \"INTERSECTED_FILES\")"
   ]
  },
  {
   "cell_type": "code",
   "execution_count": 22,
   "metadata": {
    "hidden": true
   },
   "outputs": [],
   "source": [
    "# Convert LASD to DEM\n",
    "dem_name = r\"c:\\gitFiles\\GIS5571\\Lab2\\Part 2\\lab2_part2\\lab2_part2.gdb\\dem_lm\"\n",
    "\n",
    "dem = arcpy.conversion.LasDatasetToRaster(\"final_lasd.lasd\", dem_name, \"ELEVATION\", None, \"FLOAT\", \"CELLSIZE\", 1, 1)"
   ]
  },
  {
   "cell_type": "code",
   "execution_count": 25,
   "metadata": {
    "hidden": true
   },
   "outputs": [],
   "source": [
    "# Calculate Slope\n",
    "slope_name = r\"C:\\gitFiles\\GIS5571\\Lab2\\Part 2\\Lab2_Part2\\Lab2_Part2.gdb\\slope\"\n",
    "\n",
    "slope = arcpy.sa.Slope(\"dem_lm\", \"DEGREE\", 1, \"PLANAR\", \"METER\")\n",
    "\n",
    "slope.save(slope_name)"
   ]
  },
  {
   "cell_type": "markdown",
   "metadata": {
    "heading_collapsed": true
   },
   "source": [
    "### Landcover Data Prep"
   ]
  },
  {
   "cell_type": "code",
   "execution_count": 27,
   "metadata": {
    "hidden": true
   },
   "outputs": [],
   "source": [
    "# Create AOI\n",
    "bndry = arcpy.ddd.RasterDomain(slope, \"aoi\", \"POLYGON\")\n",
    "\n",
    "# Clip Landcover to AOI\n",
    "out_lc = r\"C:\\gitFiles\\GIS5571\\Lab2\\Part 2\\Lab2_Part2\\Lab2_Part2.gdb\\landcover_aoi\"\n",
    "\n",
    "lc_aoi = arcpy.management.Clip(\"landcover_impervious_statewide2013_v2.tif\", \"564958.63 4875662.12 577613.63 4889678.12\", out_lc, bndry, \"255\", \"ClippingGeometry\", \"MAINTAIN_EXTENT\")"
   ]
  },
  {
   "cell_type": "markdown",
   "metadata": {},
   "source": [
    "### Create Cost Surface"
   ]
  },
  {
   "cell_type": "code",
   "execution_count": 30,
   "metadata": {},
   "outputs": [],
   "source": [
    "# Reclassify Landcover\n",
    "lc_reclass_v1 = arcpy.sa.Reclassify(\"landcover_aoi\", \"Value\", \"1 100 5;101 2;102 2;103 2;104 3;105 2;106 3;107 3;108 4;109 1;110 1\", \"DATA\")"
   ]
  },
  {
   "cell_type": "code",
   "execution_count": 31,
   "metadata": {},
   "outputs": [],
   "source": [
    "# Reclassify Slope\n",
    "slope_reclass_v1 = arcpy.sa.Reclassify(\"slope\", \"VALUE\", \"0 2.084853 5;2.084853 3.822231 4;3.822231 6.602035 3;6.602035 18.416204 2;18.416204 88.606262 1\", \"DATA\") "
   ]
  },
  {
   "cell_type": "markdown",
   "metadata": {},
   "source": [
    "### Running Model"
   ]
  },
  {
   "cell_type": "code",
   "execution_count": null,
   "metadata": {},
   "outputs": [],
   "source": []
  },
  {
   "cell_type": "markdown",
   "metadata": {},
   "source": [
    "### Cleanup"
   ]
  },
  {
   "cell_type": "code",
   "execution_count": 6,
   "metadata": {},
   "outputs": [],
   "source": [
    "# Final Cleanup and Deleting Temp Files\n",
    "os.chdir(\"C:\\gitFiles\\GIS5571\\Lab2\\Part 2\\Lab2_Part2\")\n",
    "del_list = glob.glob(\"tmp*\")\n",
    "\n",
    "#for i in del_list:\n",
    "    #shutil.rmtree(i)"
   ]
  }
 ],
 "metadata": {
  "kernelspec": {
   "display_name": "ArcGISPro",
   "language": "Python",
   "name": "python3"
  },
  "language_info": {
   "file_extension": ".py",
   "name": "python",
   "version": "3"
  }
 },
 "nbformat": 4,
 "nbformat_minor": 2
}
