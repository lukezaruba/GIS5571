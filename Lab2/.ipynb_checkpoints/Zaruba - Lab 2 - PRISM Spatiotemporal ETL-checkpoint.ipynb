{
 "cells": [
  {
   "cell_type": "markdown",
   "id": "7e51d96c",
   "metadata": {},
   "source": [
    "# PRISM SpatioTemporal ETL <br> (Lab 2 - Part 1.3)\n",
    "\n",
    "### GIS 5571: ArcGIS I <br> University of Minnesota\n",
    "\n",
    "##### Luke Zaruba <br> October 9, 2022"
   ]
  },
  {
   "cell_type": "markdown",
   "id": "4b970ff4",
   "metadata": {},
   "source": [
    "## Downloading PRISM Data (Part 1.3.A)"
   ]
  },
  {
   "cell_type": "code",
   "execution_count": 8,
   "id": "cd75d6f7",
   "metadata": {},
   "outputs": [],
   "source": [
    "# Import Libraries\n",
    "import requests\n",
    "import os\n",
    "from zipfile import ZipFile"
   ]
  },
  {
   "cell_type": "code",
   "execution_count": 17,
   "id": "569f8b10",
   "metadata": {},
   "outputs": [
    {
     "name": "stdout",
     "output_type": "stream",
     "text": [
      "ZIP file already exists.\n",
      "File has already been unzipped.\n"
     ]
    }
   ],
   "source": [
    "# Setting File Paths for Outputs\n",
    "zip_path = os.path.join(os.getcwd(), \"data/PRISM\")\n",
    "file_name = os.path.join(zip_path, \"PRISM_ppt_30yr_normal_4kmM3_all_bil.zip\")\n",
    "\n",
    "# Check if Path Exists\n",
    "if os.path.exists(zip_path) == False:\n",
    "    os.mkdir(zip_path)\n",
    "\n",
    "# Send Request\n",
    "base_url = \"https://ftp.prism.oregonstate.edu/normals_4km/ppt/PRISM_ppt_30yr_normal_4kmM3_all_bil.zip\"\n",
    "\n",
    "resp = requests.get(base_url)\n",
    "\n",
    "# Write Response to ZIP File\n",
    "if os.path.exists(file_name) == False:\n",
    "    with open(file_name, \"wb\") as z:\n",
    "        z.write(resp.content)\n",
    "else:\n",
    "    print(\"ZIP file already exists.\")\n",
    "\n",
    "# Unzipping File\n",
    "if os.path.exists(file_name[:-3]) == False:\n",
    "    with ZipFile(file_name, \"r\") as zipped:\n",
    "        zipped.extractall(file_name[:-3])\n",
    "else:\n",
    "    print(\"File has already been unzipped.\")"
   ]
  },
  {
   "cell_type": "markdown",
   "id": "5d911dbe",
   "metadata": {},
   "source": [
    "## Converting to Spacetime Cube (Part 1.3.B)"
   ]
  },
  {
   "cell_type": "markdown",
   "id": "c89adfc0",
   "metadata": {},
   "source": [
    "## Spacetime Cube Animation (Part 1.3.C)"
   ]
  }
 ],
 "metadata": {
  "kernelspec": {
   "display_name": "Python 3 (ipykernel)",
   "language": "python",
   "name": "python3"
  },
  "language_info": {
   "codemirror_mode": {
    "name": "ipython",
    "version": 3
   },
   "file_extension": ".py",
   "mimetype": "text/x-python",
   "name": "python",
   "nbconvert_exporter": "python",
   "pygments_lexer": "ipython3",
   "version": "3.9.7"
  }
 },
 "nbformat": 4,
 "nbformat_minor": 5
}
