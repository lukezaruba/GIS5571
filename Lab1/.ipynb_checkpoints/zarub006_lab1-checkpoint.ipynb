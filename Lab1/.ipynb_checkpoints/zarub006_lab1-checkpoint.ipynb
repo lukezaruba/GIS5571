{
 "cells": [
  {
   "cell_type": "markdown",
   "metadata": {},
   "source": [
    "# GIS 5571 - Lab 1\n",
    "### Luke Zaruba\n",
    "##### September ##, 2022"
   ]
  },
  {
   "cell_type": "code",
   "execution_count": 111,
   "metadata": {},
   "outputs": [],
   "source": [
    "# Import Libraries\n",
    "import requests\n",
    "import pandas as pd\n",
    "import geopandas as gpd\n",
    "import folium"
   ]
  },
  {
   "cell_type": "markdown",
   "metadata": {},
   "source": [
    "# 1. Google Places API ETL Pipeline"
   ]
  },
  {
   "cell_type": "markdown",
   "metadata": {},
   "source": [
    "### Functions"
   ]
  },
  {
   "cell_type": "code",
   "execution_count": 98,
   "metadata": {},
   "outputs": [],
   "source": [
    "def checkValueTypes(lat, long, place_type):\n",
    "    accepted_types = [\"accounting\", \"airport\", \"amusement_park\", \"aquarium\",\n",
    "                      \"art_gallery\", \"atm\", \"bakery\", \"bank\", \"bar\", \"beauty_salon\",\n",
    "                      \"bicycle_store\", \"book_store\", \"bowling_alley\", \"bus_station\",\n",
    "                      \"cafe\", \"campground\", \"car_dealer\", \"car_rental\", \"car_repair\",\n",
    "                      \"car_wash\", \"casino\", \"cemetery\", \"church\", \"city_hall\",\n",
    "                      \"clothing_store\", \"convenience_store\", \"courthouse\", \"dentist\",\n",
    "                      \"department_store\", \"doctor\", \"drugstore\", \"electrician\",\n",
    "                      \"electronics_store\", \"embassy\", \"fire_station\", \"florist\",\n",
    "                      \"funeral_home\", \"furniture_store\", \"gas_station\", \"gym\", \"hair_care\",\n",
    "                      \"hardware_store\", \"hindu_temple\", \"home_goods_store\", \"hospital\",\n",
    "                      \"insurance_agency\", \"jewelry_store\", \"laundry\", \"lawyer\", \"library\",\n",
    "                      \"light_rail_station\", \"liquor_store\", \"local_government_office\",\n",
    "                      \"locksmith\", \"lodging\", \"meal_delivery\", \"meal_takeaway\", \"mosque\",\n",
    "                      \"movie_rental\", \"movie_theater\", \"moving_company\", \"museum\",\n",
    "                      \"night_club\", \"painter\", \"park\", \"parking\", \"pet_store\", \"pharmacy\",\n",
    "                      \"physiotherapist\", \"plumber\", \"police\", \"post_office\",\n",
    "                      \"primary_school\", \"real_estate_agency\", \"restaurant\",\n",
    "                      \"roofing_contractor\", \"rv_park\", \"school\", \"secondary_school\",\n",
    "                      \"shoe_store\", \"shopping_mall\", \"spa\", \"stadium\", \"storage\", \"store\",\n",
    "                      \"subway_station\", \"supermarket\", \"synagogue\", \"taxi_stand\",\n",
    "                      \"tourist_attraction\", \"train_station\", \"transit_station\",\n",
    "                      \"travel_agency\", \"university\", \"veterinary_care\", \"zoo\"]\n",
    "    if place_type not in accepted_types:\n",
    "        raise ValueError(f\"place_type must be one of the following options: {accepted_types}\")\n",
    "    if float(lat) < -90 or float(lat) > 90:\n",
    "        raise ValueError(\"Latitude must be a float between -90.0 and 90.0\")\n",
    "    if float(long) < -180 or float(lat) > 180:\n",
    "        raise ValueError(\"Longitude must be a float between -180.0 and 180.0\")"
   ]
  },
  {
   "cell_type": "code",
   "execution_count": 99,
   "metadata": {},
   "outputs": [],
   "source": [
    "def searchGoogle(lat, long, radius, place_type, keyword, api_key):\n",
    "    # Check for acceptable lat, long, and place_type values\n",
    "    checkValueTypes(lat, long, place_type)\n",
    "\n",
    "    # Replacing url substrings with search parameters\n",
    "    google_places = \"https://maps.googleapis.com/maps/api/place/nearbysearch/json?location=LOC&radius=RAD&type=TYPE&keyword=KW&key=YOUR_API_KEY\"\n",
    "\n",
    "    location = str(lat) + \"%2C\" + str(long)\n",
    "\n",
    "    google_places = google_places.replace(\"LOC\", location)\n",
    "    google_places = google_places.replace(\"RAD\", str(radius))\n",
    "    google_places = google_places.replace(\"TYPE\", place_type)\n",
    "    google_places = google_places.replace(\"KW\", keyword)\n",
    "    google_places = google_places.replace(\"YOUR_API_KEY\", api_key)\n",
    "\n",
    "    # Getting request\n",
    "    payload={}\n",
    "    headers = {}\n",
    "\n",
    "    response = requests.request(\"GET\", google_places, headers=headers, data=payload)\n",
    "\n",
    "    # Note: Not an actual JSON - can keep as JSON object to use list/dist methods for parsing\n",
    "    json_response = response.json()\n",
    "\n",
    "    return json_response[\"results\"]"
   ]
  },
  {
   "cell_type": "code",
   "execution_count": 104,
   "metadata": {},
   "outputs": [],
   "source": [
    "def googleJsonToDf(json_input):\n",
    "    df = pd.DataFrame(columns=(\"Name\", \"Latitude\", \"Longitude\", \"Rating\", \"Address\", \"Icon_URL\"))\n",
    "    \n",
    "    for i in range(len(json_input)):\n",
    "        name = [json_input[i][\"name\"]]\n",
    "        lat = [json_input[i][\"geometry\"][\"location\"][\"lat\"]]\n",
    "        lng = [json_input[i][\"geometry\"][\"location\"][\"lng\"]]\n",
    "        rating = [json_input[i][\"rating\"]]\n",
    "        address = [json_input[i][\"vicinity\"]]\n",
    "        icon = [json_input[i][\"icon\"]]\n",
    "        \n",
    "        df.loc[i] = name + lat + lng + rating + address + icon\n",
    "    \n",
    "    gdf = gpd.GeoDataFrame(df, geometry=gpd.points_from_xy(df.Longitude, df.Latitude))\n",
    "        \n",
    "    return gdf"
   ]
  },
  {
   "cell_type": "code",
   "execution_count": 119,
   "metadata": {},
   "outputs": [],
   "source": [
    "def makeMapObject(lat, long, zoom, gdf):\n",
    "    my_map = folium.Map(location=[lat, long], tiles=\"Cartodb Positron\", zoom_start=zoom)\n",
    "    \n",
    "    point_list = [[pt.xy[1][0], pt.xy[0][0]] for pt in gdf.geometry]\n",
    "    \n",
    "    i = 0\n",
    "    \n",
    "    for feature in point_list:\n",
    "        custom_icon = folium.features.CustomIcon(gdf.Icon_URL[i], icon_size=(14, 14))\n",
    "        \n",
    "        my_map.add_child(folium.Marker(location = feature,\n",
    "                            popup =\n",
    "                            \"Name: \" + str(gdf.Name[i]) + '\\n' +\n",
    "                            \"Address: \" + str(gdf.Address[i]) + '\\n' +\n",
    "                            \"Rating: \" + str(gdf.Rating[i]) + '\\n' +\n",
    "                            \"Coordinates: \" + str(point_list[i]),\n",
    "                            icon = custom_icon))\n",
    "        i += 1\n",
    "        \n",
    "    return my_map"
   ]
  },
  {
   "cell_type": "markdown",
   "metadata": {},
   "source": [
    "### Running Functions"
   ]
  },
  {
   "cell_type": "code",
   "execution_count": 108,
   "metadata": {
    "scrolled": true
   },
   "outputs": [],
   "source": [
    "key = pass\n",
    "\n",
    "example_query = searchGoogle(44.971635, -93.270123, \"1500\", \"hospital\", \"hospital\", key)"
   ]
  },
  {
   "cell_type": "code",
   "execution_count": 109,
   "metadata": {},
   "outputs": [],
   "source": [
    "hospitals = googleJsonToDf(example_query)"
   ]
  },
  {
   "cell_type": "code",
   "execution_count": 125,
   "metadata": {
    "scrolled": false
   },
   "outputs": [
    {
     "data": {
      "text/html": [
       "<div style=\"width:100%;\"><div style=\"position:relative;width:100%;height:0;padding-bottom:60%;\"><span style=\"color:#565656\">Make this Notebook Trusted to load map: File -> Trust Notebook</span><iframe src=\"about:blank\" style=\"position:absolute;width:100%;height:100%;left:0;top:0;border:none !important;\" data-html=%3C%21DOCTYPE%20html%3E%0A%3Chead%3E%20%20%20%20%0A%20%20%20%20%3Cmeta%20http-equiv%3D%22content-type%22%20content%3D%22text/html%3B%20charset%3DUTF-8%22%20/%3E%0A%20%20%20%20%0A%20%20%20%20%20%20%20%20%3Cscript%3E%0A%20%20%20%20%20%20%20%20%20%20%20%20L_NO_TOUCH%20%3D%20false%3B%0A%20%20%20%20%20%20%20%20%20%20%20%20L_DISABLE_3D%20%3D%20false%3B%0A%20%20%20%20%20%20%20%20%3C/script%3E%0A%20%20%20%20%0A%20%20%20%20%3Cstyle%3Ehtml%2C%20body%20%7Bwidth%3A%20100%25%3Bheight%3A%20100%25%3Bmargin%3A%200%3Bpadding%3A%200%3B%7D%3C/style%3E%0A%20%20%20%20%3Cstyle%3E%23map%20%7Bposition%3Aabsolute%3Btop%3A0%3Bbottom%3A0%3Bright%3A0%3Bleft%3A0%3B%7D%3C/style%3E%0A%20%20%20%20%3Cscript%20src%3D%22https%3A//cdn.jsdelivr.net/npm/leaflet%401.6.0/dist/leaflet.js%22%3E%3C/script%3E%0A%20%20%20%20%3Cscript%20src%3D%22https%3A//code.jquery.com/jquery-1.12.4.min.js%22%3E%3C/script%3E%0A%20%20%20%20%3Cscript%20src%3D%22https%3A//maxcdn.bootstrapcdn.com/bootstrap/3.2.0/js/bootstrap.min.js%22%3E%3C/script%3E%0A%20%20%20%20%3Cscript%20src%3D%22https%3A//cdnjs.cloudflare.com/ajax/libs/Leaflet.awesome-markers/2.0.2/leaflet.awesome-markers.js%22%3E%3C/script%3E%0A%20%20%20%20%3Clink%20rel%3D%22stylesheet%22%20href%3D%22https%3A//cdn.jsdelivr.net/npm/leaflet%401.6.0/dist/leaflet.css%22/%3E%0A%20%20%20%20%3Clink%20rel%3D%22stylesheet%22%20href%3D%22https%3A//maxcdn.bootstrapcdn.com/bootstrap/3.2.0/css/bootstrap.min.css%22/%3E%0A%20%20%20%20%3Clink%20rel%3D%22stylesheet%22%20href%3D%22https%3A//maxcdn.bootstrapcdn.com/bootstrap/3.2.0/css/bootstrap-theme.min.css%22/%3E%0A%20%20%20%20%3Clink%20rel%3D%22stylesheet%22%20href%3D%22https%3A//maxcdn.bootstrapcdn.com/font-awesome/4.6.3/css/font-awesome.min.css%22/%3E%0A%20%20%20%20%3Clink%20rel%3D%22stylesheet%22%20href%3D%22https%3A//cdnjs.cloudflare.com/ajax/libs/Leaflet.awesome-markers/2.0.2/leaflet.awesome-markers.css%22/%3E%0A%20%20%20%20%3Clink%20rel%3D%22stylesheet%22%20href%3D%22https%3A//cdn.jsdelivr.net/gh/python-visualization/folium/folium/templates/leaflet.awesome.rotate.min.css%22/%3E%0A%20%20%20%20%0A%20%20%20%20%20%20%20%20%20%20%20%20%3Cmeta%20name%3D%22viewport%22%20content%3D%22width%3Ddevice-width%2C%0A%20%20%20%20%20%20%20%20%20%20%20%20%20%20%20%20initial-scale%3D1.0%2C%20maximum-scale%3D1.0%2C%20user-scalable%3Dno%22%20/%3E%0A%20%20%20%20%20%20%20%20%20%20%20%20%3Cstyle%3E%0A%20%20%20%20%20%20%20%20%20%20%20%20%20%20%20%20%23map_eee5e444220e4d92ba7abda6916b4235%20%7B%0A%20%20%20%20%20%20%20%20%20%20%20%20%20%20%20%20%20%20%20%20position%3A%20relative%3B%0A%20%20%20%20%20%20%20%20%20%20%20%20%20%20%20%20%20%20%20%20width%3A%20100.0%25%3B%0A%20%20%20%20%20%20%20%20%20%20%20%20%20%20%20%20%20%20%20%20height%3A%20100.0%25%3B%0A%20%20%20%20%20%20%20%20%20%20%20%20%20%20%20%20%20%20%20%20left%3A%200.0%25%3B%0A%20%20%20%20%20%20%20%20%20%20%20%20%20%20%20%20%20%20%20%20top%3A%200.0%25%3B%0A%20%20%20%20%20%20%20%20%20%20%20%20%20%20%20%20%7D%0A%20%20%20%20%20%20%20%20%20%20%20%20%3C/style%3E%0A%20%20%20%20%20%20%20%20%0A%3C/head%3E%0A%3Cbody%3E%20%20%20%20%0A%20%20%20%20%0A%20%20%20%20%20%20%20%20%20%20%20%20%3Cdiv%20class%3D%22folium-map%22%20id%3D%22map_eee5e444220e4d92ba7abda6916b4235%22%20%3E%3C/div%3E%0A%20%20%20%20%20%20%20%20%0A%3C/body%3E%0A%3Cscript%3E%20%20%20%20%0A%20%20%20%20%0A%20%20%20%20%20%20%20%20%20%20%20%20var%20map_eee5e444220e4d92ba7abda6916b4235%20%3D%20L.map%28%0A%20%20%20%20%20%20%20%20%20%20%20%20%20%20%20%20%22map_eee5e444220e4d92ba7abda6916b4235%22%2C%0A%20%20%20%20%20%20%20%20%20%20%20%20%20%20%20%20%7B%0A%20%20%20%20%20%20%20%20%20%20%20%20%20%20%20%20%20%20%20%20center%3A%20%5B44.971635%2C%20-93.270123%5D%2C%0A%20%20%20%20%20%20%20%20%20%20%20%20%20%20%20%20%20%20%20%20crs%3A%20L.CRS.EPSG3857%2C%0A%20%20%20%20%20%20%20%20%20%20%20%20%20%20%20%20%20%20%20%20zoom%3A%2015%2C%0A%20%20%20%20%20%20%20%20%20%20%20%20%20%20%20%20%20%20%20%20zoomControl%3A%20true%2C%0A%20%20%20%20%20%20%20%20%20%20%20%20%20%20%20%20%20%20%20%20preferCanvas%3A%20false%2C%0A%20%20%20%20%20%20%20%20%20%20%20%20%20%20%20%20%7D%0A%20%20%20%20%20%20%20%20%20%20%20%20%29%3B%0A%0A%20%20%20%20%20%20%20%20%20%20%20%20%0A%0A%20%20%20%20%20%20%20%20%0A%20%20%20%20%0A%20%20%20%20%20%20%20%20%20%20%20%20var%20tile_layer_ec562be612a64f3db348567b3df82bed%20%3D%20L.tileLayer%28%0A%20%20%20%20%20%20%20%20%20%20%20%20%20%20%20%20%22https%3A//cartodb-basemaps-%7Bs%7D.global.ssl.fastly.net/light_all/%7Bz%7D/%7Bx%7D/%7By%7D.png%22%2C%0A%20%20%20%20%20%20%20%20%20%20%20%20%20%20%20%20%7B%22attribution%22%3A%20%22%5Cu0026copy%3B%20%5Cu003ca%20href%3D%5C%22http%3A//www.openstreetmap.org/copyright%5C%22%5Cu003eOpenStreetMap%5Cu003c/a%5Cu003e%20contributors%20%5Cu0026copy%3B%20%5Cu003ca%20href%3D%5C%22http%3A//cartodb.com/attributions%5C%22%5Cu003eCartoDB%5Cu003c/a%5Cu003e%2C%20CartoDB%20%5Cu003ca%20href%20%3D%5C%22http%3A//cartodb.com/attributions%5C%22%5Cu003eattributions%5Cu003c/a%5Cu003e%22%2C%20%22detectRetina%22%3A%20false%2C%20%22maxNativeZoom%22%3A%2018%2C%20%22maxZoom%22%3A%2018%2C%20%22minZoom%22%3A%200%2C%20%22noWrap%22%3A%20false%2C%20%22opacity%22%3A%201%2C%20%22subdomains%22%3A%20%22abc%22%2C%20%22tms%22%3A%20false%7D%0A%20%20%20%20%20%20%20%20%20%20%20%20%29.addTo%28map_eee5e444220e4d92ba7abda6916b4235%29%3B%0A%20%20%20%20%20%20%20%20%0A%20%20%20%20%0A%20%20%20%20%20%20%20%20%20%20%20%20var%20marker_dfe9a58af202449f8af4be983b0ab9ba%20%3D%20L.marker%28%0A%20%20%20%20%20%20%20%20%20%20%20%20%20%20%20%20%5B44.9724191%2C%20-93.2620715%5D%2C%0A%20%20%20%20%20%20%20%20%20%20%20%20%20%20%20%20%7B%7D%0A%20%20%20%20%20%20%20%20%20%20%20%20%29.addTo%28map_eee5e444220e4d92ba7abda6916b4235%29%3B%0A%20%20%20%20%20%20%20%20%0A%20%20%20%20%0A%20%20%20%20%20%20%20%20var%20custom_icon_89851cca49b54ceaa222e7aa6f5fd4dc%20%3D%20L.icon%28%7B%22iconSize%22%3A%20%5B14%2C%2014%5D%2C%20%22iconUrl%22%3A%20%22https%3A//maps.gstatic.com/mapfiles/place_api/icons/v1/png_71/hospital-71.png%22%7D%29%3B%0A%20%20%20%20%20%20%20%20marker_dfe9a58af202449f8af4be983b0ab9ba.setIcon%28custom_icon_89851cca49b54ceaa222e7aa6f5fd4dc%29%3B%0A%20%20%20%20%20%20%20%20%0A%20%20%20%20%0A%20%20%20%20%20%20%20%20var%20popup_a7e6dc22551a4807b5ee6826b36d42d8%20%3D%20L.popup%28%7B%22maxWidth%22%3A%20%22100%25%22%7D%29%3B%0A%0A%20%20%20%20%20%20%20%20%0A%20%20%20%20%20%20%20%20%20%20%20%20var%20html_7ebd634a18b443bcb5ddd96d9b4344e6%20%3D%20%24%28%60%3Cdiv%20id%3D%22html_7ebd634a18b443bcb5ddd96d9b4344e6%22%20style%3D%22width%3A%20100.0%25%3B%20height%3A%20100.0%25%3B%22%3EName%3A%20Hennepin%20Healthcare%20Address%3A%20701%20Park%20Ave%2C%20Minneapolis%20Rating%3A%202.3%20Coordinates%3A%20%5B44.9724191%2C%20-93.2620715%5D%3C/div%3E%60%29%5B0%5D%3B%0A%20%20%20%20%20%20%20%20%20%20%20%20popup_a7e6dc22551a4807b5ee6826b36d42d8.setContent%28html_7ebd634a18b443bcb5ddd96d9b4344e6%29%3B%0A%20%20%20%20%20%20%20%20%0A%0A%20%20%20%20%20%20%20%20marker_dfe9a58af202449f8af4be983b0ab9ba.bindPopup%28popup_a7e6dc22551a4807b5ee6826b36d42d8%29%0A%20%20%20%20%20%20%20%20%3B%0A%0A%20%20%20%20%20%20%20%20%0A%20%20%20%20%0A%20%20%20%20%0A%20%20%20%20%20%20%20%20%20%20%20%20var%20marker_2bd0e5da62974fe3955db3a53d337aac%20%3D%20L.marker%28%0A%20%20%20%20%20%20%20%20%20%20%20%20%20%20%20%20%5B44.9776474%2C%20-93.26510119999999%5D%2C%0A%20%20%20%20%20%20%20%20%20%20%20%20%20%20%20%20%7B%7D%0A%20%20%20%20%20%20%20%20%20%20%20%20%29.addTo%28map_eee5e444220e4d92ba7abda6916b4235%29%3B%0A%20%20%20%20%20%20%20%20%0A%20%20%20%20%0A%20%20%20%20%20%20%20%20var%20custom_icon_71edc4c8527e4a90a5af6d944f3fb921%20%3D%20L.icon%28%7B%22iconSize%22%3A%20%5B14%2C%2014%5D%2C%20%22iconUrl%22%3A%20%22https%3A//maps.gstatic.com/mapfiles/place_api/icons/v1/png_71/hospital-71.png%22%7D%29%3B%0A%20%20%20%20%20%20%20%20marker_2bd0e5da62974fe3955db3a53d337aac.setIcon%28custom_icon_71edc4c8527e4a90a5af6d944f3fb921%29%3B%0A%20%20%20%20%20%20%20%20%0A%20%20%20%20%0A%20%20%20%20%20%20%20%20var%20popup_94adb27a51a94ca6b32430782c1af6cf%20%3D%20L.popup%28%7B%22maxWidth%22%3A%20%22100%25%22%7D%29%3B%0A%0A%20%20%20%20%20%20%20%20%0A%20%20%20%20%20%20%20%20%20%20%20%20var%20html_457d82eb188f4d8eb91e2011f6285276%20%3D%20%24%28%60%3Cdiv%20id%3D%22html_457d82eb188f4d8eb91e2011f6285276%22%20style%3D%22width%3A%20100.0%25%3B%20height%3A%20100.0%25%3B%22%3EName%3A%20Presbyterian%20Address%3A%20301-399%20S%204th%20St%2C%20Minneapolis%20Rating%3A%200.0%20Coordinates%3A%20%5B44.9776474%2C%20-93.26510119999999%5D%3C/div%3E%60%29%5B0%5D%3B%0A%20%20%20%20%20%20%20%20%20%20%20%20popup_94adb27a51a94ca6b32430782c1af6cf.setContent%28html_457d82eb188f4d8eb91e2011f6285276%29%3B%0A%20%20%20%20%20%20%20%20%0A%0A%20%20%20%20%20%20%20%20marker_2bd0e5da62974fe3955db3a53d337aac.bindPopup%28popup_94adb27a51a94ca6b32430782c1af6cf%29%0A%20%20%20%20%20%20%20%20%3B%0A%0A%20%20%20%20%20%20%20%20%0A%20%20%20%20%0A%20%20%20%20%0A%20%20%20%20%20%20%20%20%20%20%20%20var%20marker_55c62de438d341c6b62dd5cab359dae8%20%3D%20L.marker%28%0A%20%20%20%20%20%20%20%20%20%20%20%20%20%20%20%20%5B44.9601683%2C%20-93.2641866%5D%2C%0A%20%20%20%20%20%20%20%20%20%20%20%20%20%20%20%20%7B%7D%0A%20%20%20%20%20%20%20%20%20%20%20%20%29.addTo%28map_eee5e444220e4d92ba7abda6916b4235%29%3B%0A%20%20%20%20%20%20%20%20%0A%20%20%20%20%0A%20%20%20%20%20%20%20%20var%20custom_icon_2d27a7bc63d74dcba6902cf8f2e0ca87%20%3D%20L.icon%28%7B%22iconSize%22%3A%20%5B14%2C%2014%5D%2C%20%22iconUrl%22%3A%20%22https%3A//maps.gstatic.com/mapfiles/place_api/icons/v1/png_71/hospital-71.png%22%7D%29%3B%0A%20%20%20%20%20%20%20%20marker_55c62de438d341c6b62dd5cab359dae8.setIcon%28custom_icon_2d27a7bc63d74dcba6902cf8f2e0ca87%29%3B%0A%20%20%20%20%20%20%20%20%0A%20%20%20%20%0A%20%20%20%20%20%20%20%20var%20popup_33f743a1da604f48900e41e3347eeff3%20%3D%20L.popup%28%7B%22maxWidth%22%3A%20%22100%25%22%7D%29%3B%0A%0A%20%20%20%20%20%20%20%20%0A%20%20%20%20%20%20%20%20%20%20%20%20var%20html_80d1a2a580004123a7cbf82ffdcf8f8c%20%3D%20%24%28%60%3Cdiv%20id%3D%22html_80d1a2a580004123a7cbf82ffdcf8f8c%22%20style%3D%22width%3A%20100.0%25%3B%20height%3A%20100.0%25%3B%22%3EName%3A%20Metropolitan%20Mt%20Sinai%20Medical%20Center%20Address%3A%202215%20Park%20Ave%2C%20Minneapolis%20Rating%3A%202.7%20Coordinates%3A%20%5B44.9601683%2C%20-93.2641866%5D%3C/div%3E%60%29%5B0%5D%3B%0A%20%20%20%20%20%20%20%20%20%20%20%20popup_33f743a1da604f48900e41e3347eeff3.setContent%28html_80d1a2a580004123a7cbf82ffdcf8f8c%29%3B%0A%20%20%20%20%20%20%20%20%0A%0A%20%20%20%20%20%20%20%20marker_55c62de438d341c6b62dd5cab359dae8.bindPopup%28popup_33f743a1da604f48900e41e3347eeff3%29%0A%20%20%20%20%20%20%20%20%3B%0A%0A%20%20%20%20%20%20%20%20%0A%20%20%20%20%0A%20%20%20%20%0A%20%20%20%20%20%20%20%20%20%20%20%20var%20marker_3f2e7a3b207042938a9afd6dc2e43d5b%20%3D%20L.marker%28%0A%20%20%20%20%20%20%20%20%20%20%20%20%20%20%20%20%5B44.9717774%2C%20-93.2622336%5D%2C%0A%20%20%20%20%20%20%20%20%20%20%20%20%20%20%20%20%7B%7D%0A%20%20%20%20%20%20%20%20%20%20%20%20%29.addTo%28map_eee5e444220e4d92ba7abda6916b4235%29%3B%0A%20%20%20%20%20%20%20%20%0A%20%20%20%20%0A%20%20%20%20%20%20%20%20var%20custom_icon_1df83556a820492bb2b7bd8d4d6ff950%20%3D%20L.icon%28%7B%22iconSize%22%3A%20%5B14%2C%2014%5D%2C%20%22iconUrl%22%3A%20%22https%3A//maps.gstatic.com/mapfiles/place_api/icons/v1/png_71/hospital-71.png%22%7D%29%3B%0A%20%20%20%20%20%20%20%20marker_3f2e7a3b207042938a9afd6dc2e43d5b.setIcon%28custom_icon_1df83556a820492bb2b7bd8d4d6ff950%29%3B%0A%20%20%20%20%20%20%20%20%0A%20%20%20%20%0A%20%20%20%20%20%20%20%20var%20popup_f8697b13cf844eecb770c58e4116de86%20%3D%20L.popup%28%7B%22maxWidth%22%3A%20%22100%25%22%7D%29%3B%0A%0A%20%20%20%20%20%20%20%20%0A%20%20%20%20%20%20%20%20%20%20%20%20var%20html_92bf69e72a6f4ae09c42b6a146bc4b00%20%3D%20%24%28%60%3Cdiv%20id%3D%22html_92bf69e72a6f4ae09c42b6a146bc4b00%22%20style%3D%22width%3A%20100.0%25%3B%20height%3A%20100.0%25%3B%22%3EName%3A%20Hennepin%20County%20Medical%20Center%3A%20Medical%20Intensive%20Care%20Address%3A%20730%20S%208th%20St%2C%20Minneapolis%20Rating%3A%203.0%20Coordinates%3A%20%5B44.9717774%2C%20-93.2622336%5D%3C/div%3E%60%29%5B0%5D%3B%0A%20%20%20%20%20%20%20%20%20%20%20%20popup_f8697b13cf844eecb770c58e4116de86.setContent%28html_92bf69e72a6f4ae09c42b6a146bc4b00%29%3B%0A%20%20%20%20%20%20%20%20%0A%0A%20%20%20%20%20%20%20%20marker_3f2e7a3b207042938a9afd6dc2e43d5b.bindPopup%28popup_f8697b13cf844eecb770c58e4116de86%29%0A%20%20%20%20%20%20%20%20%3B%0A%0A%20%20%20%20%20%20%20%20%0A%20%20%20%20%0A%20%20%20%20%0A%20%20%20%20%20%20%20%20%20%20%20%20var%20marker_6c9178d901974f9c9f167f82ab525559%20%3D%20L.marker%28%0A%20%20%20%20%20%20%20%20%20%20%20%20%20%20%20%20%5B44.9776474%2C%20-93.26510119999999%5D%2C%0A%20%20%20%20%20%20%20%20%20%20%20%20%20%20%20%20%7B%7D%0A%20%20%20%20%20%20%20%20%20%20%20%20%29.addTo%28map_eee5e444220e4d92ba7abda6916b4235%29%3B%0A%20%20%20%20%20%20%20%20%0A%20%20%20%20%0A%20%20%20%20%20%20%20%20var%20custom_icon_f1e692235a4c409395821f9b71a80b7c%20%3D%20L.icon%28%7B%22iconSize%22%3A%20%5B14%2C%2014%5D%2C%20%22iconUrl%22%3A%20%22https%3A//maps.gstatic.com/mapfiles/place_api/icons/v1/png_71/hospital-71.png%22%7D%29%3B%0A%20%20%20%20%20%20%20%20marker_6c9178d901974f9c9f167f82ab525559.setIcon%28custom_icon_f1e692235a4c409395821f9b71a80b7c%29%3B%0A%20%20%20%20%20%20%20%20%0A%20%20%20%20%0A%20%20%20%20%20%20%20%20var%20popup_e07b15c67e9446c1ade3a279535c187a%20%3D%20L.popup%28%7B%22maxWidth%22%3A%20%22100%25%22%7D%29%3B%0A%0A%20%20%20%20%20%20%20%20%0A%20%20%20%20%20%20%20%20%20%20%20%20var%20html_e4a965e12a9c43759d4a531bb9df8107%20%3D%20%24%28%60%3Cdiv%20id%3D%22html_e4a965e12a9c43759d4a531bb9df8107%22%20style%3D%22width%3A%20100.0%25%3B%20height%3A%20100.0%25%3B%22%3EName%3A%20University%20Of%20Mn%20Med%20Ctr%20Address%3A%20Minneapolis%20Rating%3A%200.0%20Coordinates%3A%20%5B44.9776474%2C%20-93.26510119999999%5D%3C/div%3E%60%29%5B0%5D%3B%0A%20%20%20%20%20%20%20%20%20%20%20%20popup_e07b15c67e9446c1ade3a279535c187a.setContent%28html_e4a965e12a9c43759d4a531bb9df8107%29%3B%0A%20%20%20%20%20%20%20%20%0A%0A%20%20%20%20%20%20%20%20marker_6c9178d901974f9c9f167f82ab525559.bindPopup%28popup_e07b15c67e9446c1ade3a279535c187a%29%0A%20%20%20%20%20%20%20%20%3B%0A%0A%20%20%20%20%20%20%20%20%0A%20%20%20%20%0A%20%20%20%20%0A%20%20%20%20%20%20%20%20%20%20%20%20var%20marker_8e9957db518a414282cbf3432262e4b2%20%3D%20L.marker%28%0A%20%20%20%20%20%20%20%20%20%20%20%20%20%20%20%20%5B44.9711103%2C%20-93.26342249999999%5D%2C%0A%20%20%20%20%20%20%20%20%20%20%20%20%20%20%20%20%7B%7D%0A%20%20%20%20%20%20%20%20%20%20%20%20%29.addTo%28map_eee5e444220e4d92ba7abda6916b4235%29%3B%0A%20%20%20%20%20%20%20%20%0A%20%20%20%20%0A%20%20%20%20%20%20%20%20var%20custom_icon_ef4fb75c242b4b818e340325d44f4546%20%3D%20L.icon%28%7B%22iconSize%22%3A%20%5B14%2C%2014%5D%2C%20%22iconUrl%22%3A%20%22https%3A//maps.gstatic.com/mapfiles/place_api/icons/v1/png_71/hospital-71.png%22%7D%29%3B%0A%20%20%20%20%20%20%20%20marker_8e9957db518a414282cbf3432262e4b2.setIcon%28custom_icon_ef4fb75c242b4b818e340325d44f4546%29%3B%0A%20%20%20%20%20%20%20%20%0A%20%20%20%20%0A%20%20%20%20%20%20%20%20var%20popup_b8a45784a340487e9037f22bc7c05036%20%3D%20L.popup%28%7B%22maxWidth%22%3A%20%22100%25%22%7D%29%3B%0A%0A%20%20%20%20%20%20%20%20%0A%20%20%20%20%20%20%20%20%20%20%20%20var%20html_10b64470e6034158847b59dfe5c624b4%20%3D%20%24%28%60%3Cdiv%20id%3D%22html_10b64470e6034158847b59dfe5c624b4%22%20style%3D%22width%3A%20100.0%25%3B%20height%3A%20100.0%25%3B%22%3EName%3A%20Hennepin%20Healthcare%20Clinic%20%26%20Specialty%20Center%20Address%3A%20715%20S%208th%20St%2C%20Minneapolis%20Rating%3A%203.7%20Coordinates%3A%20%5B44.9711103%2C%20-93.26342249999999%5D%3C/div%3E%60%29%5B0%5D%3B%0A%20%20%20%20%20%20%20%20%20%20%20%20popup_b8a45784a340487e9037f22bc7c05036.setContent%28html_10b64470e6034158847b59dfe5c624b4%29%3B%0A%20%20%20%20%20%20%20%20%0A%0A%20%20%20%20%20%20%20%20marker_8e9957db518a414282cbf3432262e4b2.bindPopup%28popup_b8a45784a340487e9037f22bc7c05036%29%0A%20%20%20%20%20%20%20%20%3B%0A%0A%20%20%20%20%20%20%20%20%0A%20%20%20%20%0A%20%20%20%20%0A%20%20%20%20%20%20%20%20%20%20%20%20var%20marker_7426d0b22a2340af8f6ce492c37fa099%20%3D%20L.marker%28%0A%20%20%20%20%20%20%20%20%20%20%20%20%20%20%20%20%5B44.9596452%2C%20-93.26047319999999%5D%2C%0A%20%20%20%20%20%20%20%20%20%20%20%20%20%20%20%20%7B%7D%0A%20%20%20%20%20%20%20%20%20%20%20%20%29.addTo%28map_eee5e444220e4d92ba7abda6916b4235%29%3B%0A%20%20%20%20%20%20%20%20%0A%20%20%20%20%0A%20%20%20%20%20%20%20%20var%20custom_icon_be4bd24d1a554ef79e9a91101afb84f9%20%3D%20L.icon%28%7B%22iconSize%22%3A%20%5B14%2C%2014%5D%2C%20%22iconUrl%22%3A%20%22https%3A//maps.gstatic.com/mapfiles/place_api/icons/v1/png_71/hospital-71.png%22%7D%29%3B%0A%20%20%20%20%20%20%20%20marker_7426d0b22a2340af8f6ce492c37fa099.setIcon%28custom_icon_be4bd24d1a554ef79e9a91101afb84f9%29%3B%0A%20%20%20%20%20%20%20%20%0A%20%20%20%20%0A%20%20%20%20%20%20%20%20var%20popup_c736a83eaad0479f9760e2ff870ae2a8%20%3D%20L.popup%28%7B%22maxWidth%22%3A%20%22100%25%22%7D%29%3B%0A%0A%20%20%20%20%20%20%20%20%0A%20%20%20%20%20%20%20%20%20%20%20%20var%20html_dcde1580f9d047dd8fe12b2fab5a9d51%20%3D%20%24%28%60%3Cdiv%20id%3D%22html_dcde1580f9d047dd8fe12b2fab5a9d51%22%20style%3D%22width%3A%20100.0%25%3B%20height%3A%20100.0%25%3B%22%3EName%3A%20Global%20Health%20Services%20Address%3A%20912%20E%2024th%20St%20%232%2C%20Minneapolis%20Rating%3A%205.0%20Coordinates%3A%20%5B44.9596452%2C%20-93.26047319999999%5D%3C/div%3E%60%29%5B0%5D%3B%0A%20%20%20%20%20%20%20%20%20%20%20%20popup_c736a83eaad0479f9760e2ff870ae2a8.setContent%28html_dcde1580f9d047dd8fe12b2fab5a9d51%29%3B%0A%20%20%20%20%20%20%20%20%0A%0A%20%20%20%20%20%20%20%20marker_7426d0b22a2340af8f6ce492c37fa099.bindPopup%28popup_c736a83eaad0479f9760e2ff870ae2a8%29%0A%20%20%20%20%20%20%20%20%3B%0A%0A%20%20%20%20%20%20%20%20%0A%20%20%20%20%0A%20%20%20%20%0A%20%20%20%20%20%20%20%20%20%20%20%20var%20marker_10a93f6fc5634feca1707e51f2861adf%20%3D%20L.marker%28%0A%20%20%20%20%20%20%20%20%20%20%20%20%20%20%20%20%5B44.9712574%2C%20-93.26027549999999%5D%2C%0A%20%20%20%20%20%20%20%20%20%20%20%20%20%20%20%20%7B%7D%0A%20%20%20%20%20%20%20%20%20%20%20%20%29.addTo%28map_eee5e444220e4d92ba7abda6916b4235%29%3B%0A%20%20%20%20%20%20%20%20%0A%20%20%20%20%0A%20%20%20%20%20%20%20%20var%20custom_icon_f7cb39963e454e5c8a43deb6b2f05f99%20%3D%20L.icon%28%7B%22iconSize%22%3A%20%5B14%2C%2014%5D%2C%20%22iconUrl%22%3A%20%22https%3A//maps.gstatic.com/mapfiles/place_api/icons/v1/png_71/hospital-71.png%22%7D%29%3B%0A%20%20%20%20%20%20%20%20marker_10a93f6fc5634feca1707e51f2861adf.setIcon%28custom_icon_f7cb39963e454e5c8a43deb6b2f05f99%29%3B%0A%20%20%20%20%20%20%20%20%0A%20%20%20%20%0A%20%20%20%20%20%20%20%20var%20popup_a63e117e6fa64e0b922b528e42c02eba%20%3D%20L.popup%28%7B%22maxWidth%22%3A%20%22100%25%22%7D%29%3B%0A%0A%20%20%20%20%20%20%20%20%0A%20%20%20%20%20%20%20%20%20%20%20%20var%20html_f970bc8bbc4142a2ae3013795c60e53d%20%3D%20%24%28%60%3Cdiv%20id%3D%22html_f970bc8bbc4142a2ae3013795c60e53d%22%20style%3D%22width%3A%20100.0%25%3B%20height%3A%20100.0%25%3B%22%3EName%3A%20Hennepin%20County%20Medical%20Center%3A%20Orange%20Building%20Address%3A%20913%20S%207th%20St%2C%20Minneapolis%20Rating%3A%200.0%20Coordinates%3A%20%5B44.9712574%2C%20-93.26027549999999%5D%3C/div%3E%60%29%5B0%5D%3B%0A%20%20%20%20%20%20%20%20%20%20%20%20popup_a63e117e6fa64e0b922b528e42c02eba.setContent%28html_f970bc8bbc4142a2ae3013795c60e53d%29%3B%0A%20%20%20%20%20%20%20%20%0A%0A%20%20%20%20%20%20%20%20marker_10a93f6fc5634feca1707e51f2861adf.bindPopup%28popup_a63e117e6fa64e0b922b528e42c02eba%29%0A%20%20%20%20%20%20%20%20%3B%0A%0A%20%20%20%20%20%20%20%20%0A%20%20%20%20%0A%20%20%20%20%0A%20%20%20%20%20%20%20%20%20%20%20%20var%20marker_dd270d01aab84bff92abfc11b9ef1fee%20%3D%20L.marker%28%0A%20%20%20%20%20%20%20%20%20%20%20%20%20%20%20%20%5B44.9717774%2C%20-93.2622336%5D%2C%0A%20%20%20%20%20%20%20%20%20%20%20%20%20%20%20%20%7B%7D%0A%20%20%20%20%20%20%20%20%20%20%20%20%29.addTo%28map_eee5e444220e4d92ba7abda6916b4235%29%3B%0A%20%20%20%20%20%20%20%20%0A%20%20%20%20%0A%20%20%20%20%20%20%20%20var%20custom_icon_49fe94248e47464b93a83f171fccf460%20%3D%20L.icon%28%7B%22iconSize%22%3A%20%5B14%2C%2014%5D%2C%20%22iconUrl%22%3A%20%22https%3A//maps.gstatic.com/mapfiles/place_api/icons/v1/png_71/hospital-71.png%22%7D%29%3B%0A%20%20%20%20%20%20%20%20marker_dd270d01aab84bff92abfc11b9ef1fee.setIcon%28custom_icon_49fe94248e47464b93a83f171fccf460%29%3B%0A%20%20%20%20%20%20%20%20%0A%20%20%20%20%0A%20%20%20%20%20%20%20%20var%20popup_0eb62fdf5a1342118c8fa68fb26a3313%20%3D%20L.popup%28%7B%22maxWidth%22%3A%20%22100%25%22%7D%29%3B%0A%0A%20%20%20%20%20%20%20%20%0A%20%20%20%20%20%20%20%20%20%20%20%20var%20html_e2df7954412e4f84b4c79cb8609aae20%20%3D%20%24%28%60%3Cdiv%20id%3D%22html_e2df7954412e4f84b4c79cb8609aae20%22%20style%3D%22width%3A%20100.0%25%3B%20height%3A%20100.0%25%3B%22%3EName%3A%20The%20Children%27s%20Hospital%20at%20HCMC%20Address%3A%20730%20S%208th%20St%2C%20Minneapolis%20Rating%3A%200.0%20Coordinates%3A%20%5B44.9717774%2C%20-93.2622336%5D%3C/div%3E%60%29%5B0%5D%3B%0A%20%20%20%20%20%20%20%20%20%20%20%20popup_0eb62fdf5a1342118c8fa68fb26a3313.setContent%28html_e2df7954412e4f84b4c79cb8609aae20%29%3B%0A%20%20%20%20%20%20%20%20%0A%0A%20%20%20%20%20%20%20%20marker_dd270d01aab84bff92abfc11b9ef1fee.bindPopup%28popup_0eb62fdf5a1342118c8fa68fb26a3313%29%0A%20%20%20%20%20%20%20%20%3B%0A%0A%20%20%20%20%20%20%20%20%0A%20%20%20%20%0A%20%20%20%20%0A%20%20%20%20%20%20%20%20%20%20%20%20var%20marker_97e9cffd8d7c423a85620b76d3c57c60%20%3D%20L.marker%28%0A%20%20%20%20%20%20%20%20%20%20%20%20%20%20%20%20%5B44.9771564%2C%20-93.26901769999999%5D%2C%0A%20%20%20%20%20%20%20%20%20%20%20%20%20%20%20%20%7B%7D%0A%20%20%20%20%20%20%20%20%20%20%20%20%29.addTo%28map_eee5e444220e4d92ba7abda6916b4235%29%3B%0A%20%20%20%20%20%20%20%20%0A%20%20%20%20%0A%20%20%20%20%20%20%20%20var%20custom_icon_e7800bccc7d6465d959fb1a827a55c21%20%3D%20L.icon%28%7B%22iconSize%22%3A%20%5B14%2C%2014%5D%2C%20%22iconUrl%22%3A%20%22https%3A//maps.gstatic.com/mapfiles/place_api/icons/v1/png_71/hospital-71.png%22%7D%29%3B%0A%20%20%20%20%20%20%20%20marker_97e9cffd8d7c423a85620b76d3c57c60.setIcon%28custom_icon_e7800bccc7d6465d959fb1a827a55c21%29%3B%0A%20%20%20%20%20%20%20%20%0A%20%20%20%20%0A%20%20%20%20%20%20%20%20var%20popup_2260353594cd44d9931c61975ba65c5f%20%3D%20L.popup%28%7B%22maxWidth%22%3A%20%22100%25%22%7D%29%3B%0A%0A%20%20%20%20%20%20%20%20%0A%20%20%20%20%20%20%20%20%20%20%20%20var%20html_cf2e5cad52884c3fbfa19aad2911b4b6%20%3D%20%24%28%60%3Cdiv%20id%3D%22html_cf2e5cad52884c3fbfa19aad2911b4b6%22%20style%3D%22width%3A%20100.0%25%3B%20height%3A%20100.0%25%3B%22%3EName%3A%20Physician%20Hospital%20Alignment%20Diagnostic%20Address%3A%20120%20South%206th%20St%20UNIT%201600%2C%20Minneapolis%20Rating%3A%200.0%20Coordinates%3A%20%5B44.9771564%2C%20-93.26901769999999%5D%3C/div%3E%60%29%5B0%5D%3B%0A%20%20%20%20%20%20%20%20%20%20%20%20popup_2260353594cd44d9931c61975ba65c5f.setContent%28html_cf2e5cad52884c3fbfa19aad2911b4b6%29%3B%0A%20%20%20%20%20%20%20%20%0A%0A%20%20%20%20%20%20%20%20marker_97e9cffd8d7c423a85620b76d3c57c60.bindPopup%28popup_2260353594cd44d9931c61975ba65c5f%29%0A%20%20%20%20%20%20%20%20%3B%0A%0A%20%20%20%20%20%20%20%20%0A%20%20%20%20%0A%20%20%20%20%0A%20%20%20%20%20%20%20%20%20%20%20%20var%20marker_5b2453ad3a46410a82f4d49eaeae8c53%20%3D%20L.marker%28%0A%20%20%20%20%20%20%20%20%20%20%20%20%20%20%20%20%5B44.9710923%2C%20-93.2619739%5D%2C%0A%20%20%20%20%20%20%20%20%20%20%20%20%20%20%20%20%7B%7D%0A%20%20%20%20%20%20%20%20%20%20%20%20%29.addTo%28map_eee5e444220e4d92ba7abda6916b4235%29%3B%0A%20%20%20%20%20%20%20%20%0A%20%20%20%20%0A%20%20%20%20%20%20%20%20var%20custom_icon_9de2178d81ca486b9d9bc6924c145187%20%3D%20L.icon%28%7B%22iconSize%22%3A%20%5B14%2C%2014%5D%2C%20%22iconUrl%22%3A%20%22https%3A//maps.gstatic.com/mapfiles/place_api/icons/v1/png_71/hospital-71.png%22%7D%29%3B%0A%20%20%20%20%20%20%20%20marker_5b2453ad3a46410a82f4d49eaeae8c53.setIcon%28custom_icon_9de2178d81ca486b9d9bc6924c145187%29%3B%0A%20%20%20%20%20%20%20%20%0A%20%20%20%20%0A%20%20%20%20%20%20%20%20var%20popup_cb5d4778785940919819da74983afd96%20%3D%20L.popup%28%7B%22maxWidth%22%3A%20%22100%25%22%7D%29%3B%0A%0A%20%20%20%20%20%20%20%20%0A%20%20%20%20%20%20%20%20%20%20%20%20var%20html_db2eece1ce154911b1fb688859778a38%20%3D%20%24%28%60%3Cdiv%20id%3D%22html_db2eece1ce154911b1fb688859778a38%22%20style%3D%22width%3A%20100.0%25%3B%20height%3A%20100.0%25%3B%22%3EName%3A%20Hospital%20Parking%20Ramp%20Address%3A%20Chicago%20Ave%20%26%2C%208th%20St%20S%2C%20Minneapolis%20Rating%3A%205.0%20Coordinates%3A%20%5B44.9710923%2C%20-93.2619739%5D%3C/div%3E%60%29%5B0%5D%3B%0A%20%20%20%20%20%20%20%20%20%20%20%20popup_cb5d4778785940919819da74983afd96.setContent%28html_db2eece1ce154911b1fb688859778a38%29%3B%0A%20%20%20%20%20%20%20%20%0A%0A%20%20%20%20%20%20%20%20marker_5b2453ad3a46410a82f4d49eaeae8c53.bindPopup%28popup_cb5d4778785940919819da74983afd96%29%0A%20%20%20%20%20%20%20%20%3B%0A%0A%20%20%20%20%20%20%20%20%0A%20%20%20%20%0A%20%20%20%20%0A%20%20%20%20%20%20%20%20%20%20%20%20var%20marker_fcd6b9dbd4d242bfa8b43adb143a5eeb%20%3D%20L.marker%28%0A%20%20%20%20%20%20%20%20%20%20%20%20%20%20%20%20%5B44.9727201%2C%20-93.2621448%5D%2C%0A%20%20%20%20%20%20%20%20%20%20%20%20%20%20%20%20%7B%7D%0A%20%20%20%20%20%20%20%20%20%20%20%20%29.addTo%28map_eee5e444220e4d92ba7abda6916b4235%29%3B%0A%20%20%20%20%20%20%20%20%0A%20%20%20%20%0A%20%20%20%20%20%20%20%20var%20custom_icon_092164c36ebe4f6384463ada27e85390%20%3D%20L.icon%28%7B%22iconSize%22%3A%20%5B14%2C%2014%5D%2C%20%22iconUrl%22%3A%20%22https%3A//maps.gstatic.com/mapfiles/place_api/icons/v1/png_71/hospital-71.png%22%7D%29%3B%0A%20%20%20%20%20%20%20%20marker_fcd6b9dbd4d242bfa8b43adb143a5eeb.setIcon%28custom_icon_092164c36ebe4f6384463ada27e85390%29%3B%0A%20%20%20%20%20%20%20%20%0A%20%20%20%20%0A%20%20%20%20%20%20%20%20var%20popup_e4380ad3b81b439d91ac476ea4067b04%20%3D%20L.popup%28%7B%22maxWidth%22%3A%20%22100%25%22%7D%29%3B%0A%0A%20%20%20%20%20%20%20%20%0A%20%20%20%20%20%20%20%20%20%20%20%20var%20html_f2e2891f68e1454b91efbb3c31fb65b9%20%3D%20%24%28%60%3Cdiv%20id%3D%22html_f2e2891f68e1454b91efbb3c31fb65b9%22%20style%3D%22width%3A%20100.0%25%3B%20height%3A%20100.0%25%3B%22%3EName%3A%20Hennepin%20Healthcare%20Purple%20Building%20Pick%20Up%20Location%20Address%3A%20716%20S%207th%20St%2C%20Minneapolis%20Rating%3A%200.0%20Coordinates%3A%20%5B44.9727201%2C%20-93.2621448%5D%3C/div%3E%60%29%5B0%5D%3B%0A%20%20%20%20%20%20%20%20%20%20%20%20popup_e4380ad3b81b439d91ac476ea4067b04.setContent%28html_f2e2891f68e1454b91efbb3c31fb65b9%29%3B%0A%20%20%20%20%20%20%20%20%0A%0A%20%20%20%20%20%20%20%20marker_fcd6b9dbd4d242bfa8b43adb143a5eeb.bindPopup%28popup_e4380ad3b81b439d91ac476ea4067b04%29%0A%20%20%20%20%20%20%20%20%3B%0A%0A%20%20%20%20%20%20%20%20%0A%20%20%20%20%0A%20%20%20%20%0A%20%20%20%20%20%20%20%20%20%20%20%20var%20marker_6a4d7c8e745343478f08c08fdb7254c8%20%3D%20L.marker%28%0A%20%20%20%20%20%20%20%20%20%20%20%20%20%20%20%20%5B44.970931%2C%20-93.259643%5D%2C%0A%20%20%20%20%20%20%20%20%20%20%20%20%20%20%20%20%7B%7D%0A%20%20%20%20%20%20%20%20%20%20%20%20%29.addTo%28map_eee5e444220e4d92ba7abda6916b4235%29%3B%0A%20%20%20%20%20%20%20%20%0A%20%20%20%20%0A%20%20%20%20%20%20%20%20var%20custom_icon_4241fa3c7baf467e88783e4085d61d40%20%3D%20L.icon%28%7B%22iconSize%22%3A%20%5B14%2C%2014%5D%2C%20%22iconUrl%22%3A%20%22https%3A//maps.gstatic.com/mapfiles/place_api/icons/v1/png_71/hospital-71.png%22%7D%29%3B%0A%20%20%20%20%20%20%20%20marker_6a4d7c8e745343478f08c08fdb7254c8.setIcon%28custom_icon_4241fa3c7baf467e88783e4085d61d40%29%3B%0A%20%20%20%20%20%20%20%20%0A%20%20%20%20%0A%20%20%20%20%20%20%20%20var%20popup_1b772f7dc843446f9fb2bdac8241013b%20%3D%20L.popup%28%7B%22maxWidth%22%3A%20%22100%25%22%7D%29%3B%0A%0A%20%20%20%20%20%20%20%20%0A%20%20%20%20%20%20%20%20%20%20%20%20var%20html_c5ced9a5976f468a962826e17056b09e%20%3D%20%24%28%60%3Cdiv%20id%3D%22html_c5ced9a5976f468a962826e17056b09e%22%20style%3D%22width%3A%20100.0%25%3B%20height%3A%20100.0%25%3B%22%3EName%3A%20Hennepin%20Healthcare%20Birth%20Center%20Address%3A%20913%20S%207th%20St%20Level%204%2C%20Minneapolis%20Rating%3A%200.0%20Coordinates%3A%20%5B44.970931%2C%20-93.259643%5D%3C/div%3E%60%29%5B0%5D%3B%0A%20%20%20%20%20%20%20%20%20%20%20%20popup_1b772f7dc843446f9fb2bdac8241013b.setContent%28html_c5ced9a5976f468a962826e17056b09e%29%3B%0A%20%20%20%20%20%20%20%20%0A%0A%20%20%20%20%20%20%20%20marker_6a4d7c8e745343478f08c08fdb7254c8.bindPopup%28popup_1b772f7dc843446f9fb2bdac8241013b%29%0A%20%20%20%20%20%20%20%20%3B%0A%0A%20%20%20%20%20%20%20%20%0A%20%20%20%20%0A%20%20%20%20%0A%20%20%20%20%20%20%20%20%20%20%20%20var%20marker_47c0f1907e9c4aa689d95ac8d2ec47da%20%3D%20L.marker%28%0A%20%20%20%20%20%20%20%20%20%20%20%20%20%20%20%20%5B44.9561764%2C%20-93.2622552%5D%2C%0A%20%20%20%20%20%20%20%20%20%20%20%20%20%20%20%20%7B%7D%0A%20%20%20%20%20%20%20%20%20%20%20%20%29.addTo%28map_eee5e444220e4d92ba7abda6916b4235%29%3B%0A%20%20%20%20%20%20%20%20%0A%20%20%20%20%0A%20%20%20%20%20%20%20%20var%20custom_icon_d0807feb9f134f5b8574c1d4d6819ea5%20%3D%20L.icon%28%7B%22iconSize%22%3A%20%5B14%2C%2014%5D%2C%20%22iconUrl%22%3A%20%22https%3A//maps.gstatic.com/mapfiles/place_api/icons/v1/png_71/hospital-71.png%22%7D%29%3B%0A%20%20%20%20%20%20%20%20marker_47c0f1907e9c4aa689d95ac8d2ec47da.setIcon%28custom_icon_d0807feb9f134f5b8574c1d4d6819ea5%29%3B%0A%20%20%20%20%20%20%20%20%0A%20%20%20%20%0A%20%20%20%20%20%20%20%20var%20popup_e0afacdf250e41668ec885a67a855320%20%3D%20L.popup%28%7B%22maxWidth%22%3A%20%22100%25%22%7D%29%3B%0A%0A%20%20%20%20%20%20%20%20%0A%20%20%20%20%20%20%20%20%20%20%20%20var%20html_a8408be15cc14b63b9de446a6def7df6%20%3D%20%24%28%60%3Cdiv%20id%3D%22html_a8408be15cc14b63b9de446a6def7df6%22%20style%3D%22width%3A%20100.0%25%3B%20height%3A%20100.0%25%3B%22%3EName%3A%20Children%27s%20Minnesota%20Hospital%20-%20Minneapolis%20Address%3A%202525%20Chicago%20Ave%2C%20Minneapolis%20Rating%3A%203.8%20Coordinates%3A%20%5B44.9561764%2C%20-93.2622552%5D%3C/div%3E%60%29%5B0%5D%3B%0A%20%20%20%20%20%20%20%20%20%20%20%20popup_e0afacdf250e41668ec885a67a855320.setContent%28html_a8408be15cc14b63b9de446a6def7df6%29%3B%0A%20%20%20%20%20%20%20%20%0A%0A%20%20%20%20%20%20%20%20marker_47c0f1907e9c4aa689d95ac8d2ec47da.bindPopup%28popup_e0afacdf250e41668ec885a67a855320%29%0A%20%20%20%20%20%20%20%20%3B%0A%0A%20%20%20%20%20%20%20%20%0A%20%20%20%20%0A%20%20%20%20%0A%20%20%20%20%20%20%20%20%20%20%20%20var%20marker_e094d6d2d44b4d60a7e5b1806a05abaa%20%3D%20L.marker%28%0A%20%20%20%20%20%20%20%20%20%20%20%20%20%20%20%20%5B44.9731129%2C%20-93.2627868%5D%2C%0A%20%20%20%20%20%20%20%20%20%20%20%20%20%20%20%20%7B%7D%0A%20%20%20%20%20%20%20%20%20%20%20%20%29.addTo%28map_eee5e444220e4d92ba7abda6916b4235%29%3B%0A%20%20%20%20%20%20%20%20%0A%20%20%20%20%0A%20%20%20%20%20%20%20%20var%20custom_icon_189efe6507fa4d498ba1497b133200f2%20%3D%20L.icon%28%7B%22iconSize%22%3A%20%5B14%2C%2014%5D%2C%20%22iconUrl%22%3A%20%22https%3A//maps.gstatic.com/mapfiles/place_api/icons/v1/png_71/hospital-71.png%22%7D%29%3B%0A%20%20%20%20%20%20%20%20marker_e094d6d2d44b4d60a7e5b1806a05abaa.setIcon%28custom_icon_189efe6507fa4d498ba1497b133200f2%29%3B%0A%20%20%20%20%20%20%20%20%0A%20%20%20%20%0A%20%20%20%20%20%20%20%20var%20popup_03ff9b7d0a68454fb36bb100f8dd947d%20%3D%20L.popup%28%7B%22maxWidth%22%3A%20%22100%25%22%7D%29%3B%0A%0A%20%20%20%20%20%20%20%20%0A%20%20%20%20%20%20%20%20%20%20%20%20var%20html_9999e75b5b604ad89cc5979de827f31d%20%3D%20%24%28%60%3Cdiv%20id%3D%22html_9999e75b5b604ad89cc5979de827f31d%22%20style%3D%22width%3A%20100.0%25%3B%20height%3A%20100.0%25%3B%22%3EName%3A%20HCMC%20Acute%20Psychiatric%20Services%20Address%3A%20HCMC%20Parking%20Ramp%2C%20Minneapolis%20Rating%3A%202.5%20Coordinates%3A%20%5B44.9731129%2C%20-93.2627868%5D%3C/div%3E%60%29%5B0%5D%3B%0A%20%20%20%20%20%20%20%20%20%20%20%20popup_03ff9b7d0a68454fb36bb100f8dd947d.setContent%28html_9999e75b5b604ad89cc5979de827f31d%29%3B%0A%20%20%20%20%20%20%20%20%0A%0A%20%20%20%20%20%20%20%20marker_e094d6d2d44b4d60a7e5b1806a05abaa.bindPopup%28popup_03ff9b7d0a68454fb36bb100f8dd947d%29%0A%20%20%20%20%20%20%20%20%3B%0A%0A%20%20%20%20%20%20%20%20%0A%20%20%20%20%0A%20%20%20%20%0A%20%20%20%20%20%20%20%20%20%20%20%20var%20marker_0950bdd5293f4a2c81352c3334a22736%20%3D%20L.marker%28%0A%20%20%20%20%20%20%20%20%20%20%20%20%20%20%20%20%5B44.972261%2C%20-93.26245449999999%5D%2C%0A%20%20%20%20%20%20%20%20%20%20%20%20%20%20%20%20%7B%7D%0A%20%20%20%20%20%20%20%20%20%20%20%20%29.addTo%28map_eee5e444220e4d92ba7abda6916b4235%29%3B%0A%20%20%20%20%20%20%20%20%0A%20%20%20%20%0A%20%20%20%20%20%20%20%20var%20custom_icon_d5f7a8c35be144979943d4d52d4b7beb%20%3D%20L.icon%28%7B%22iconSize%22%3A%20%5B14%2C%2014%5D%2C%20%22iconUrl%22%3A%20%22https%3A//maps.gstatic.com/mapfiles/place_api/icons/v1/png_71/hospital-71.png%22%7D%29%3B%0A%20%20%20%20%20%20%20%20marker_0950bdd5293f4a2c81352c3334a22736.setIcon%28custom_icon_d5f7a8c35be144979943d4d52d4b7beb%29%3B%0A%20%20%20%20%20%20%20%20%0A%20%20%20%20%0A%20%20%20%20%20%20%20%20var%20popup_1a882fd2059e467b9a90bc139438a446%20%3D%20L.popup%28%7B%22maxWidth%22%3A%20%22100%25%22%7D%29%3B%0A%0A%20%20%20%20%20%20%20%20%0A%20%20%20%20%20%20%20%20%20%20%20%20var%20html_518478ee267242f8bd56d6a8c9b12aba%20%3D%20%24%28%60%3Cdiv%20id%3D%22html_518478ee267242f8bd56d6a8c9b12aba%22%20style%3D%22width%3A%20100.0%25%3B%20height%3A%20100.0%25%3B%22%3EName%3A%20Hennepin%20Healthcare%20Psychiatry%20Address%3A%20701%20Park%20Ave%2C%20Minneapolis%20Rating%3A%203.0%20Coordinates%3A%20%5B44.972261%2C%20-93.26245449999999%5D%3C/div%3E%60%29%5B0%5D%3B%0A%20%20%20%20%20%20%20%20%20%20%20%20popup_1a882fd2059e467b9a90bc139438a446.setContent%28html_518478ee267242f8bd56d6a8c9b12aba%29%3B%0A%20%20%20%20%20%20%20%20%0A%0A%20%20%20%20%20%20%20%20marker_0950bdd5293f4a2c81352c3334a22736.bindPopup%28popup_1a882fd2059e467b9a90bc139438a446%29%0A%20%20%20%20%20%20%20%20%3B%0A%0A%20%20%20%20%20%20%20%20%0A%20%20%20%20%0A%20%20%20%20%0A%20%20%20%20%20%20%20%20%20%20%20%20var%20marker_f98d47c4a4444b47bbd72439d48eb3e7%20%3D%20L.marker%28%0A%20%20%20%20%20%20%20%20%20%20%20%20%20%20%20%20%5B44.9712324%2C%20-93.2602026%5D%2C%0A%20%20%20%20%20%20%20%20%20%20%20%20%20%20%20%20%7B%7D%0A%20%20%20%20%20%20%20%20%20%20%20%20%29.addTo%28map_eee5e444220e4d92ba7abda6916b4235%29%3B%0A%20%20%20%20%20%20%20%20%0A%20%20%20%20%0A%20%20%20%20%20%20%20%20var%20custom_icon_452a1c88bce14990a88a0f75351cd4b4%20%3D%20L.icon%28%7B%22iconSize%22%3A%20%5B14%2C%2014%5D%2C%20%22iconUrl%22%3A%20%22https%3A//maps.gstatic.com/mapfiles/place_api/icons/v1/png_71/hospital-71.png%22%7D%29%3B%0A%20%20%20%20%20%20%20%20marker_f98d47c4a4444b47bbd72439d48eb3e7.setIcon%28custom_icon_452a1c88bce14990a88a0f75351cd4b4%29%3B%0A%20%20%20%20%20%20%20%20%0A%20%20%20%20%0A%20%20%20%20%20%20%20%20var%20popup_037dee68a13440d4bcb65466439f5b1c%20%3D%20L.popup%28%7B%22maxWidth%22%3A%20%22100%25%22%7D%29%3B%0A%0A%20%20%20%20%20%20%20%20%0A%20%20%20%20%20%20%20%20%20%20%20%20var%20html_9896707f198a4fd1abde443190fa3f31%20%3D%20%24%28%60%3Cdiv%20id%3D%22html_9896707f198a4fd1abde443190fa3f31%22%20style%3D%22width%3A%20100.0%25%3B%20height%3A%20100.0%25%3B%22%3EName%3A%20HCMC%20Shapiro%20Building%20Address%3A%20913%20S%207th%20St%2C%20Minneapolis%20Rating%3A%204.1%20Coordinates%3A%20%5B44.9712324%2C%20-93.2602026%5D%3C/div%3E%60%29%5B0%5D%3B%0A%20%20%20%20%20%20%20%20%20%20%20%20popup_037dee68a13440d4bcb65466439f5b1c.setContent%28html_9896707f198a4fd1abde443190fa3f31%29%3B%0A%20%20%20%20%20%20%20%20%0A%0A%20%20%20%20%20%20%20%20marker_f98d47c4a4444b47bbd72439d48eb3e7.bindPopup%28popup_037dee68a13440d4bcb65466439f5b1c%29%0A%20%20%20%20%20%20%20%20%3B%0A%0A%20%20%20%20%20%20%20%20%0A%20%20%20%20%0A%20%20%20%20%0A%20%20%20%20%20%20%20%20%20%20%20%20var%20marker_3541147f84d44f12ad2ba89fd2ed44f8%20%3D%20L.marker%28%0A%20%20%20%20%20%20%20%20%20%20%20%20%20%20%20%20%5B44.9565429%2C%20-93.26178%5D%2C%0A%20%20%20%20%20%20%20%20%20%20%20%20%20%20%20%20%7B%7D%0A%20%20%20%20%20%20%20%20%20%20%20%20%29.addTo%28map_eee5e444220e4d92ba7abda6916b4235%29%3B%0A%20%20%20%20%20%20%20%20%0A%20%20%20%20%0A%20%20%20%20%20%20%20%20var%20custom_icon_7251c2b5e3484811ad64ffee49b1aef7%20%3D%20L.icon%28%7B%22iconSize%22%3A%20%5B14%2C%2014%5D%2C%20%22iconUrl%22%3A%20%22https%3A//maps.gstatic.com/mapfiles/place_api/icons/v1/png_71/generic_business-71.png%22%7D%29%3B%0A%20%20%20%20%20%20%20%20marker_3541147f84d44f12ad2ba89fd2ed44f8.setIcon%28custom_icon_7251c2b5e3484811ad64ffee49b1aef7%29%3B%0A%20%20%20%20%20%20%20%20%0A%20%20%20%20%0A%20%20%20%20%20%20%20%20var%20popup_062332a956d54258b0d5b26d2620cfb0%20%3D%20L.popup%28%7B%22maxWidth%22%3A%20%22100%25%22%7D%29%3B%0A%0A%20%20%20%20%20%20%20%20%0A%20%20%20%20%20%20%20%20%20%20%20%20var%20html_963ae75acb744894ab869f31990ba4df%20%3D%20%24%28%60%3Cdiv%20id%3D%22html_963ae75acb744894ab869f31990ba4df%22%20style%3D%22width%3A%20100.0%25%3B%20height%3A%20100.0%25%3B%22%3EName%3A%20Fresenius%20Medical%20Care%20at%20Children%27S%20Hospital%20-%20Minneapolis%20Address%3A%202525%20Chicago%20Ave%2C%20Minneapolis%20Rating%3A%200.0%20Coordinates%3A%20%5B44.9565429%2C%20-93.26178%5D%3C/div%3E%60%29%5B0%5D%3B%0A%20%20%20%20%20%20%20%20%20%20%20%20popup_062332a956d54258b0d5b26d2620cfb0.setContent%28html_963ae75acb744894ab869f31990ba4df%29%3B%0A%20%20%20%20%20%20%20%20%0A%0A%20%20%20%20%20%20%20%20marker_3541147f84d44f12ad2ba89fd2ed44f8.bindPopup%28popup_062332a956d54258b0d5b26d2620cfb0%29%0A%20%20%20%20%20%20%20%20%3B%0A%0A%20%20%20%20%20%20%20%20%0A%20%20%20%20%0A%20%20%20%20%0A%20%20%20%20%20%20%20%20%20%20%20%20var%20marker_a91b5370cfac445d8e6b16858e0c835e%20%3D%20L.marker%28%0A%20%20%20%20%20%20%20%20%20%20%20%20%20%20%20%20%5B44.9712372%2C%20-93.26282180000001%5D%2C%0A%20%20%20%20%20%20%20%20%20%20%20%20%20%20%20%20%7B%7D%0A%20%20%20%20%20%20%20%20%20%20%20%20%29.addTo%28map_eee5e444220e4d92ba7abda6916b4235%29%3B%0A%20%20%20%20%20%20%20%20%0A%20%20%20%20%0A%20%20%20%20%20%20%20%20var%20custom_icon_577ca05ab8954ae197a62d1f9b8ddf9c%20%3D%20L.icon%28%7B%22iconSize%22%3A%20%5B14%2C%2014%5D%2C%20%22iconUrl%22%3A%20%22https%3A//maps.gstatic.com/mapfiles/place_api/icons/v1/png_71/hospital-71.png%22%7D%29%3B%0A%20%20%20%20%20%20%20%20marker_a91b5370cfac445d8e6b16858e0c835e.setIcon%28custom_icon_577ca05ab8954ae197a62d1f9b8ddf9c%29%3B%0A%20%20%20%20%20%20%20%20%0A%20%20%20%20%0A%20%20%20%20%20%20%20%20var%20popup_6b855560535e46388bbf9ac7abd7b629%20%3D%20L.popup%28%7B%22maxWidth%22%3A%20%22100%25%22%7D%29%3B%0A%0A%20%20%20%20%20%20%20%20%0A%20%20%20%20%20%20%20%20%20%20%20%20var%20html_2002e2de7c4b44b687d9f012665fdf85%20%3D%20%24%28%60%3Cdiv%20id%3D%22html_2002e2de7c4b44b687d9f012665fdf85%22%20style%3D%22width%3A%20100.0%25%3B%20height%3A%20100.0%25%3B%22%3EName%3A%20Mpls%20pain%20center%20Address%3A%20715%20S%208th%20St%2C%20Minneapolis%20Rating%3A%200.0%20Coordinates%3A%20%5B44.9712372%2C%20-93.26282180000001%5D%3C/div%3E%60%29%5B0%5D%3B%0A%20%20%20%20%20%20%20%20%20%20%20%20popup_6b855560535e46388bbf9ac7abd7b629.setContent%28html_2002e2de7c4b44b687d9f012665fdf85%29%3B%0A%20%20%20%20%20%20%20%20%0A%0A%20%20%20%20%20%20%20%20marker_a91b5370cfac445d8e6b16858e0c835e.bindPopup%28popup_6b855560535e46388bbf9ac7abd7b629%29%0A%20%20%20%20%20%20%20%20%3B%0A%0A%20%20%20%20%20%20%20%20%0A%20%20%20%20%0A%3C/script%3E onload=\"this.contentDocument.open();this.contentDocument.write(    decodeURIComponent(this.getAttribute('data-html')));this.contentDocument.close();\" allowfullscreen webkitallowfullscreen mozallowfullscreen></iframe></div></div>"
      ],
      "text/plain": [
       "<folium.folium.Map at 0x7fe867165760>"
      ]
     },
     "execution_count": 125,
     "metadata": {},
     "output_type": "execute_result"
    }
   ],
   "source": [
    "makeMapObject(44.971635, -93.270123, 15, hospitals)"
   ]
  },
  {
   "cell_type": "markdown",
   "metadata": {},
   "source": [
    "# Minnesota Geospatial Commons ETL Pipeline"
   ]
  },
  {
   "cell_type": "code",
   "execution_count": null,
   "metadata": {},
   "outputs": [],
   "source": []
  }
 ],
 "metadata": {
  "kernelspec": {
   "display_name": "Python 3",
   "language": "python",
   "name": "python3"
  },
  "language_info": {
   "codemirror_mode": {
    "name": "ipython",
    "version": 3
   },
   "file_extension": ".py",
   "mimetype": "text/x-python",
   "name": "python",
   "nbconvert_exporter": "python",
   "pygments_lexer": "ipython3",
   "version": "3.8.5"
  }
 },
 "nbformat": 4,
 "nbformat_minor": 4
}
