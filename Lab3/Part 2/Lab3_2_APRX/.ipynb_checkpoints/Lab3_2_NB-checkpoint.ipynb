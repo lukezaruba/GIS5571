{
 "cells": [
  {
   "cell_type": "markdown",
   "metadata": {},
   "source": [
    "# Route Optimization with Suitability Modelling <br> (Lab 3 - Part 2)\n",
    "\n",
    "### GIS 5571: ArcGIS I <br> University of Minnesota\n",
    "\n",
    "##### Luke Zaruba <br> November 30, 2022"
   ]
  },
  {
   "cell_type": "code",
   "execution_count": null,
   "metadata": {},
   "outputs": [],
   "source": [
    "import arcpy\n",
    "import requests\n"
   ]
  },
  {
   "cell_type": "code",
   "execution_count": null,
   "metadata": {},
   "outputs": [],
   "source": [
    "url = \"\"\"https://ndawn.ndsu.nodak.edu/table.csv?station=78&station=111&station=98&station=174&station=142&station=138&\n",
    "station=161&station=9&station=10&station=118&station=56&station=11&station=12&station=58&station=13&station=84&station\n",
    "=55&station=7&station=87&station=14&station=15&station=96&station=16&station=137&station=124&station=143&station=17&st\n",
    "ation=85&station=140&station=134&station=18&station=136&station=65&station=104&station=99&station=19&station=129&stati\n",
    "on=20&station=101&station=81&station=21&station=97&station=22&station=75&station=2&station=172&station=139&station=23&\n",
    "station=62&station=86&station=24&station=89&station=126&station=93&station=90&station=25&station=83&station=107&statio\n",
    "n=156&station=77&station=26&station=70&station=127&station=27&station=132&station=28&station=29&station=30&station=31&\n",
    "station=102&station=32&station=119&station=4&station=80&station=33&station=59&station=105&station=82&station=34&statio\n",
    "n=72&station=135&station=35&station=76&station=120&station=141&station=109&station=36&station=79&station=71&station=37\n",
    "&station=38&station=39&station=130&station=73&station=40&station=41&station=54&station=69&station=113&station=128&stat\n",
    "ion=42&station=43&station=103&station=116&station=88&station=114&station=3&station=163&station=64&station=115&station=\n",
    "67&station=44&station=133&station=106&station=100&station=121&station=45&station=46&station=61&station=66&station=74&s\n",
    "tation=60&station=125&station=8&station=47&station=122&station=108&station=5&station=152&station=48&station=68&station\n",
    "=49&station=50&station=91&station=117&station=63&station=150&station=51&station=6&station=52&station=92&station=112&st\n",
    "ation=131&station=123&station=95&station=53&station=57&station=149&station=148&station=110&variable=ddavt&year=2022&tt\n",
    "ype=daily&quick_pick=30_d&begin_date=2022-11-26&end_date=2022-11-26\"\"\""
   ]
  }
 ],
 "metadata": {
  "kernelspec": {
   "display_name": "ArcGISPro",
   "language": "Python",
   "name": "python3"
  },
  "language_info": {
   "file_extension": ".py",
   "name": "python",
   "version": "3"
  }
 },
 "nbformat": 4,
 "nbformat_minor": 2
}
