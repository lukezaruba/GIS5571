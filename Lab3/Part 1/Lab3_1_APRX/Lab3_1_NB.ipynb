{
 "cells": [
  {
   "cell_type": "markdown",
   "metadata": {},
   "source": [
    "# Route Optimization with Suitability Modelling <br> (Lab 3 - Part 1)\n",
    "\n",
    "### GIS 5571: ArcGIS I <br> University of Minnesota\n",
    "\n",
    "##### Luke Zaruba <br> November 30, 2022"
   ]
  },
  {
   "cell_type": "markdown",
   "metadata": {},
   "source": [
    "<u>**NOTE:**</u> The workflow in this notebook is essentially the same exact workflow as the one I created in lab 2 (part 2), since I already added the functionality to iteratively test different weights in my model. For the purposes of this lab, I removed much of the preprocessing that went into preparing the data and also only created three different cost surfaces, rather than 10 as I did previously.\n",
    "\n",
    "The more exhaustive workflow that was previously created can be found in the lab's repo [here](https://github.com/lukezaruba/GIS5571/blob/main/Lab2/Part%202/Lab2_Part2/Zaruba%20Lab2_2.ipynb). "
   ]
  },
  {
   "cell_type": "code",
   "execution_count": 1,
   "metadata": {},
   "outputs": [],
   "source": [
    "import arcpy"
   ]
  },
  {
   "cell_type": "code",
   "execution_count": 2,
   "metadata": {},
   "outputs": [],
   "source": [
    "from arcpy import env\n",
    "env.scratchWorkspace = env.scratchFolder\n",
    "env.workspace = env.scratchWorkspace"
   ]
  },
  {
   "cell_type": "markdown",
   "metadata": {},
   "source": [
    "## Reclassify Data and Run Model (Processed and Cleaned in Lab 2)"
   ]
  },
  {
   "cell_type": "code",
   "execution_count": 3,
   "metadata": {},
   "outputs": [],
   "source": [
    "# Reclassify Landcover\n",
    "lc_reclass = arcpy.sa.Reclassify(\"landcover_aoi\", \"Value\", \"1 100 5;101 2;102 2;103 2;104 3;105 2;106 3;107 3;108 4;109 1;110 1\", \"DATA\")"
   ]
  },
  {
   "cell_type": "code",
   "execution_count": 4,
   "metadata": {},
   "outputs": [],
   "source": [
    "# Reclassify Slope\n",
    "slope_reclass = arcpy.sa.Reclassify(\"slope\", \"VALUE\", \"0 2.084853 5;2.084853 3.822231 4;3.822231 6.602035 3;6.602035 18.416204 2;18.416204 88.606262 1\", \"DATA\") "
   ]
  },
  {
   "cell_type": "code",
   "execution_count": 5,
   "metadata": {},
   "outputs": [],
   "source": [
    "# Create Three Cost Surfaces to Test Different Model Weights\n",
    "for i in [0.1, 0.5, 0.9]:\n",
    "    # Set Weights\n",
    "    slope_w_rnd = round(i, 1)\n",
    "    landcover_w_rnd = round((1 - i), 1)\n",
    "    \n",
    "    # Calculate Cost and Save as New Raster\n",
    "    cost = ((((arcpy.Raster(slope_reclass) * slope_w_rnd) + (arcpy.Raster(lc_reclass) * landcover_w_rnd)) * -1) + 6)\n",
    "\n",
    "    # Create Cost Path\n",
    "    cPath_name = fr\"cPath_{str(slope_w_rnd)[2:3]}s_{str(landcover_w_rnd)[2:3]}lc\"\n",
    "    cPath = arcpy.sa.OptimalRegionConnections(\"origin_destination\", cPath_name, in_cost_raster = cost)"
   ]
  }
 ],
 "metadata": {
  "kernelspec": {
   "display_name": "Python 3",
   "language": "python",
   "name": "python3"
  },
  "language_info": {
   "codemirror_mode": {
    "name": "ipython",
    "version": 3
   },
   "file_extension": ".py",
   "mimetype": "text/x-python",
   "name": "python",
   "nbconvert_exporter": "python",
   "pygments_lexer": "ipython3",
   "version": "3.8.5"
  }
 },
 "nbformat": 4,
 "nbformat_minor": 2
}
