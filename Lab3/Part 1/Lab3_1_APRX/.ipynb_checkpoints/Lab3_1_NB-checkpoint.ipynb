{
 "cells": [
  {
   "cell_type": "markdown",
   "metadata": {},
   "source": [
    "# Route Optimization with Suitability Modelling <br> (Lab 3 - Part 1)\n",
    "\n",
    "### GIS 5571: ArcGIS I <br> University of Minnesota\n",
    "\n",
    "##### Luke Zaruba <br> November 30, 2022"
   ]
  },
  {
   "cell_type": "code",
   "execution_count": null,
   "metadata": {},
   "outputs": [],
   "source": [
    "import arcpy\n",
    "import numpy as np\n",
    "import os"
   ]
  },
  {
   "cell_type": "code",
   "execution_count": null,
   "metadata": {},
   "outputs": [],
   "source": [
    "from arcpy import env\n",
    "env.scratchWorkspace = env.scratchFolder\n",
    "env.workspace = env.scratchWorkspace"
   ]
  },
  {
   "cell_type": "markdown",
   "metadata": {},
   "source": [
    "## Reclassify Data and Run Model (Processed and Cleaned in Lab 2)"
   ]
  },
  {
   "cell_type": "code",
   "execution_count": null,
   "metadata": {},
   "outputs": [],
   "source": [
    "# Reclassify Landcover\n",
    "lc_reclass_v1 = arcpy.sa.Reclassify(\"landcover_aoi\", \"Value\", \"1 100 5;101 2;102 2;103 2;104 3;105 2;106 3;107 3;108 4;109 1;110 1\", \"DATA\")"
   ]
  },
  {
   "cell_type": "code",
   "execution_count": null,
   "metadata": {},
   "outputs": [],
   "source": [
    "# Reclassify Slope\n",
    "slope_reclass_v1 = arcpy.sa.Reclassify(\"slope\", \"VALUE\", \"0 2.084853 5;2.084853 3.822231 4;3.822231 6.602035 3;6.602035 18.416204 2;18.416204 88.606262 1\", \"DATA\") "
   ]
  },
  {
   "cell_type": "code",
   "execution_count": null,
   "metadata": {},
   "outputs": [],
   "source": [
    "# Create Several Cost Surfaces to Test Different Model Weights\n",
    "for i in np.arange(0.1, 1.0, 0.1):\n",
    "    # Set Weights\n",
    "    slope_w_rnd = round(i, 1)\n",
    "    landcover_w_rnd = round((1 - i), 1)\n",
    "    \n",
    "    # Calculate Cost and Save as New Raster\n",
    "    cost = ((((arcpy.Raster(slope_reclass_v1) * slope_w_rnd) + (arcpy.Raster(lc_reclass_v1) * landcover_w_rnd)) * -1) + 6)\n",
    "\n",
    "    # Create Cost Path\n",
    "    cPath_name = fr\"cPath_{str(slope_w_rnd)[2:3]}s_{str(landcover_w_rnd)[2:3]}lc\"\n",
    "    cPath = arcpy.sa.OptimalRegionConnections(\"origin_destination\", cPath_name, in_cost_raster = cost)"
   ]
  }
 ],
 "metadata": {
  "kernelspec": {
   "display_name": "ArcGISPro",
   "language": "Python",
   "name": "python3"
  },
  "language_info": {
   "file_extension": ".py",
   "name": "python",
   "version": "3"
  }
 },
 "nbformat": 4,
 "nbformat_minor": 2
}
